{
 "cells": [
  {
   "cell_type": "markdown",
   "metadata": {},
   "source": [
    "# Build Fct Tables\n",
    "\n",
    "I started by setting up the boxscore and scoring data tables in 'game_stats.ipynb'\n",
    "\n",
    "This file will be for the other fact tables. Currently one dedicated to betting/gambling odds. Another for the record of each team."
   ]
  },
  {
   "cell_type": "markdown",
   "metadata": {},
   "source": [
    "## Imports"
   ]
  },
  {
   "cell_type": "code",
   "execution_count": 1,
   "metadata": {},
   "outputs": [],
   "source": [
    "import pandas as pd\n",
    "import json\n",
    "import os\n",
    "import requests\n",
    "\n",
    "from dotenv import load_dotenv"
   ]
  },
  {
   "cell_type": "markdown",
   "metadata": {},
   "source": [
    "## API Credentials"
   ]
  },
  {
   "cell_type": "code",
   "execution_count": 2,
   "metadata": {},
   "outputs": [],
   "source": [
    "#Get API Key and host\n",
    "load_dotenv()\n",
    "api_token = os.getenv('nfl_api_key')\n",
    "api_host = os.getenv('rapid_api_host')\n",
    "\n",
    "#rapidapi headers\n",
    "headers = {\n",
    "\t\"X-RapidAPI-Key\": \"{key}\".format(key=api_token),\n",
    "\t\"X-RapidAPI-Host\": \"{host}\".format(host=api_host)\n",
    "}"
   ]
  },
  {
   "cell_type": "markdown",
   "metadata": {},
   "source": [
    "## Betting\n",
    "\n",
    "For this the endpoint is 'Get NFL Betting Odds'. I will use to to save off the different spreads and odds for each game, by vendor.\n",
    "\n",
    "It takes the game id to pull, so we will have to loop through each game to pull all the records. Here I'll test with one game.\n",
    "\n",
    "Unfortunately, it looks like only 2023 data for this is available at this point.\n",
    "\n",
    "### Extract"
   ]
  },
  {
   "cell_type": "code",
   "execution_count": 42,
   "metadata": {},
   "outputs": [],
   "source": [
    "#re-create sportbook mapping in dim_tables. This will be import in the final product.\n",
    "sportsbook_dict = {\n",
    "    \"betmgm\": 1,\n",
    "    \"bet365\": 2,\n",
    "    \"fanduel\": 3,\n",
    "    \"wynnbet\": 4,\n",
    "    \"unibet\": 5,\n",
    "    \"pointsbet\": 6,\n",
    "    \"betrivers\": 7,\n",
    "    \"ceasars_sportsbook\": 8,\n",
    "    \"draftkings\": 9   \n",
    "}"
   ]
  },
  {
   "cell_type": "code",
   "execution_count": 13,
   "metadata": {},
   "outputs": [],
   "source": [
    "#API Params\n",
    "#API Endpoint for NFL Team Info\n",
    "url = \"https://tank01-nfl-live-in-game-real-time-statistics-nfl.p.rapidapi.com/getNFLBettingOdds\"\n",
    "\n",
    "#pull in only main team info, none of the rosters, schedules, stats, etc.\n",
    "querystring = querystring = {\"gameID\":\"20231001_ARI@SF\"}"
   ]
  },
  {
   "cell_type": "code",
   "execution_count": 14,
   "metadata": {},
   "outputs": [],
   "source": [
    "#get team data\n",
    "response = requests.get(url, headers=headers, params=querystring)"
   ]
  },
  {
   "cell_type": "code",
   "execution_count": 24,
   "metadata": {},
   "outputs": [
    {
     "data": {
      "text/plain": [
       "{'totalUnder': '44',\n",
       " 'awayTeamSpread': '+14',\n",
       " 'awayTeamSpreadOdds': '-110',\n",
       " 'homeTeamSpread': '-14',\n",
       " 'homeTeamSpreadOdds': '-110',\n",
       " 'totalOverOdds': '-110',\n",
       " 'totalUnderOdds': '-110',\n",
       " 'awayTeamMLOdds': '+625',\n",
       " 'homeTeamMLOdds': '-1000',\n",
       " 'totalOver': '44'}"
      ]
     },
     "execution_count": 24,
     "metadata": {},
     "output_type": "execute_result"
    }
   ],
   "source": [
    "response.json()['body']['20231001_ARI@SF']['betmgm']"
   ]
  },
  {
   "cell_type": "markdown",
   "metadata": {},
   "source": [
    "### Transform\n",
    "\n",
    "This will be fun - I think I need to iterrate through the key value pairs in the sportsbook dict to save the primary key and drill into each record.\n",
    "\n",
    "I will also need to include the game id from the API call itself and the timestamp from the root of the body.\n",
    "\n",
    "In the future if more get added to the API I'll need to catch it and add to the list. Maybe by checking the number of records compared to our dim_sportsbook table."
   ]
  },
  {
   "cell_type": "code",
   "execution_count": 37,
   "metadata": {},
   "outputs": [],
   "source": [
    "#setup body of json\n",
    "game_odds = response.json()['body']['20231001_ARI@SF']"
   ]
  },
  {
   "cell_type": "code",
   "execution_count": 38,
   "metadata": {},
   "outputs": [
    {
     "data": {
      "text/plain": [
       "'1695954490.0765254'"
      ]
     },
     "execution_count": 38,
     "metadata": {},
     "output_type": "execute_result"
    }
   ],
   "source": [
    "#view path for updated time\n",
    "game_odds['last_updated_e_time']"
   ]
  },
  {
   "cell_type": "code",
   "execution_count": 39,
   "metadata": {},
   "outputs": [
    {
     "data": {
      "text/plain": [
       "{'totalUnder': '44',\n",
       " 'awayTeamSpread': '+14',\n",
       " 'awayTeamSpreadOdds': '-110',\n",
       " 'homeTeamSpread': '-14',\n",
       " 'homeTeamSpreadOdds': '-110',\n",
       " 'totalOverOdds': '-110',\n",
       " 'totalUnderOdds': '-110',\n",
       " 'awayTeamMLOdds': '+625',\n",
       " 'homeTeamMLOdds': '-1000',\n",
       " 'totalOver': '44'}"
      ]
     },
     "execution_count": 39,
     "metadata": {},
     "output_type": "execute_result"
    }
   ],
   "source": [
    "#view path for a sportsbook\n",
    "game_odds['betmgm']"
   ]
  },
  {
   "cell_type": "code",
   "execution_count": 67,
   "metadata": {},
   "outputs": [],
   "source": [
    "#setup empty list for savings the data in individual records\n",
    "betting_data_list = []"
   ]
  },
  {
   "cell_type": "code",
   "execution_count": 68,
   "metadata": {},
   "outputs": [],
   "source": [
    "#loop through sportsbook dict to create data for each game\n",
    "for key, value in sportsbook_dict.items():\n",
    "    \n",
    "    #set updated time\n",
    "    updated_time = game_odds['last_updated_e_time']\n",
    "\n",
    "    try: #try to grab data for each sportsbook, but pass if that sportsbook doesn't have a record\n",
    "        #drill into sportsbook\n",
    "        sportsbook_data = game_odds['{sportsbook}'.format(sportsbook=key)]\n",
    "\n",
    "        #create dictionary to append to list\n",
    "        betting_odds = {\n",
    "            \"game_id\": \"20231001_ARI@SF\",\n",
    "            \"last_update\": updated_time,\n",
    "            \"sportsbook_id\": value,\n",
    "            \"total_over_under\": sportsbook_data['totalOver'],\n",
    "            \"over_odds\": sportsbook_data['totalOverOdds'],\n",
    "            \"under_odds\": sportsbook_data['totalUnderOdds'],\n",
    "            \"home_spread\": sportsbook_data['homeTeamSpread'],\n",
    "            \"home_odds\": sportsbook_data['homeTeamSpreadOdds'],\n",
    "            \"away_spread\": sportsbook_data['awayTeamSpread'],\n",
    "            \"away_odds\": sportsbook_data['awayTeamSpreadOdds'],\n",
    "            \"home_ml_odds\": sportsbook_data['homeTeamMLOdds'],\n",
    "            \"away_ml_odds\": sportsbook_data['awayTeamMLOdds']\n",
    "        }\n",
    "\n",
    "        betting_data_list.append(betting_odds)\n",
    "    \n",
    "    except KeyError:\n",
    "        pass"
   ]
  },
  {
   "cell_type": "code",
   "execution_count": 71,
   "metadata": {},
   "outputs": [
    {
     "data": {
      "text/plain": [
       "[{'game_id': '20231001_ARI@SF',\n",
       "  'last_update': '1695954490.0765254',\n",
       "  'sportsbook_id': 1,\n",
       "  'total_over_under': '44',\n",
       "  'over_odds': '-110',\n",
       "  'under_odds': '-110',\n",
       "  'home_spread': '-14',\n",
       "  'home_odds': '-110',\n",
       "  'away_spread': '+14',\n",
       "  'away_odds': '-110',\n",
       "  'home_ml_odds': '-1000',\n",
       "  'away_ml_odds': '+625'},\n",
       " {'game_id': '20231001_ARI@SF',\n",
       "  'last_update': '1695954490.0765254',\n",
       "  'sportsbook_id': 2,\n",
       "  'total_over_under': '44',\n",
       "  'over_odds': '-110',\n",
       "  'under_odds': '-110',\n",
       "  'home_spread': '-14',\n",
       "  'home_odds': '-110',\n",
       "  'away_spread': '+14',\n",
       "  'away_odds': '-110',\n",
       "  'home_ml_odds': '-850',\n",
       "  'away_ml_odds': '+575'}]"
      ]
     },
     "execution_count": 71,
     "metadata": {},
     "output_type": "execute_result"
    }
   ],
   "source": [
    "betting_data_list[:2]"
   ]
  },
  {
   "cell_type": "markdown",
   "metadata": {},
   "source": [
    "That looks pretty good for now.\n",
    "\n",
    "## Record"
   ]
  },
  {
   "cell_type": "code",
   "execution_count": null,
   "metadata": {},
   "outputs": [],
   "source": []
  }
 ],
 "metadata": {
  "kernelspec": {
   "display_name": "nfl",
   "language": "python",
   "name": "python3"
  },
  "language_info": {
   "codemirror_mode": {
    "name": "ipython",
    "version": 3
   },
   "file_extension": ".py",
   "mimetype": "text/x-python",
   "name": "python",
   "nbconvert_exporter": "python",
   "pygments_lexer": "ipython3",
   "version": "3.11.5"
  },
  "orig_nbformat": 4
 },
 "nbformat": 4,
 "nbformat_minor": 2
}
