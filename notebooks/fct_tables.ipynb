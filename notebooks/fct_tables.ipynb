{
 "cells": [
  {
   "cell_type": "markdown",
   "metadata": {},
   "source": [
    "# Build Fct Tables\n",
    "\n",
    "I started by setting up the boxscore and scoring data tables in 'game_stats.ipynb'\n",
    "\n",
    "This file will be for the other fact tables. Currently one dedicated to betting/gambling odds. Another for the record of each team."
   ]
  },
  {
   "cell_type": "markdown",
   "metadata": {},
   "source": [
    "## Imports"
   ]
  },
  {
   "cell_type": "code",
   "execution_count": 1,
   "metadata": {},
   "outputs": [],
   "source": [
    "import pandas as pd\n",
    "import json\n",
    "import os\n",
    "import requests\n",
    "\n",
    "from dotenv import load_dotenv"
   ]
  },
  {
   "cell_type": "markdown",
   "metadata": {},
   "source": [
    "## API Credentials"
   ]
  },
  {
   "cell_type": "code",
   "execution_count": 2,
   "metadata": {},
   "outputs": [],
   "source": [
    "#Get API Key and host\n",
    "load_dotenv()\n",
    "api_token = os.getenv('nfl_api_key')\n",
    "api_host = os.getenv('rapid_api_host')\n",
    "\n",
    "#rapidapi headers\n",
    "headers = {\n",
    "\t\"X-RapidAPI-Key\": \"{key}\".format(key=api_token),\n",
    "\t\"X-RapidAPI-Host\": \"{host}\".format(host=api_host)\n",
    "}"
   ]
  },
  {
   "cell_type": "markdown",
   "metadata": {},
   "source": [
    "## Betting\n",
    "\n",
    "For this the endpoint is 'Get NFL Betting Odds'. I will use to to save off the different spreads and odds for each game, by vendor.\n",
    "\n",
    "It takes the game id to pull, so we will have to loop through each game to pull all the records. Here I'll test with one game.\n",
    "\n",
    "Unfortunately, it looks like only 2023 data for this is available at this point.\n",
    "\n",
    "### Extract"
   ]
  },
  {
   "cell_type": "code",
   "execution_count": 12,
   "metadata": {},
   "outputs": [],
   "source": [
    "#re-create sportbook mapping in dim_tables. This will be import in the final product.\n",
    "sportsbook_dict = {\n",
    "    \"betmgm\": 1,\n",
    "    \"bet365\": 2,\n",
    "    \"fanduel\": 3,\n",
    "    \"wynnbet\": 4,\n",
    "    \"unibet\": 5,\n",
    "    \"pointsbet\": 6,\n",
    "    \"betrivers\": 7,\n",
    "    \"ceasars_sportsbook\": 8,\n",
    "    \"draftkings\": 9,   \n",
    "}"
   ]
  },
  {
   "cell_type": "code",
   "execution_count": 13,
   "metadata": {},
   "outputs": [],
   "source": [
    "#API Params\n",
    "#API Endpoint for NFL Team Info\n",
    "url = \"https://tank01-nfl-live-in-game-real-time-statistics-nfl.p.rapidapi.com/getNFLBettingOdds\"\n",
    "\n",
    "#pull in only main team info, none of the rosters, schedules, stats, etc.\n",
    "querystring = querystring = {\"gameID\":\"20231001_ARI@SF\"}"
   ]
  },
  {
   "cell_type": "code",
   "execution_count": 14,
   "metadata": {},
   "outputs": [],
   "source": [
    "#get team data\n",
    "response = requests.get(url, headers=headers, params=querystring)"
   ]
  },
  {
   "cell_type": "code",
   "execution_count": 24,
   "metadata": {},
   "outputs": [
    {
     "data": {
      "text/plain": [
       "{'totalUnder': '44',\n",
       " 'awayTeamSpread': '+14',\n",
       " 'awayTeamSpreadOdds': '-110',\n",
       " 'homeTeamSpread': '-14',\n",
       " 'homeTeamSpreadOdds': '-110',\n",
       " 'totalOverOdds': '-110',\n",
       " 'totalUnderOdds': '-110',\n",
       " 'awayTeamMLOdds': '+625',\n",
       " 'homeTeamMLOdds': '-1000',\n",
       " 'totalOver': '44'}"
      ]
     },
     "execution_count": 24,
     "metadata": {},
     "output_type": "execute_result"
    }
   ],
   "source": [
    "response.json()['body']['20231001_ARI@SF']['betmgm']"
   ]
  },
  {
   "cell_type": "markdown",
   "metadata": {},
   "source": [
    "### Transform\n",
    "\n",
    "This will be fun - I think I need to iterrate through the key value pairs in the sportsbook dict to save the primary key and drill into each record."
   ]
  }
 ],
 "metadata": {
  "kernelspec": {
   "display_name": "nfl",
   "language": "python",
   "name": "python3"
  },
  "language_info": {
   "codemirror_mode": {
    "name": "ipython",
    "version": 3
   },
   "file_extension": ".py",
   "mimetype": "text/x-python",
   "name": "python",
   "nbconvert_exporter": "python",
   "pygments_lexer": "ipython3",
   "version": "3.11.5"
  },
  "orig_nbformat": 4
 },
 "nbformat": 4,
 "nbformat_minor": 2
}
