{
 "cells": [
  {
   "cell_type": "markdown",
   "metadata": {},
   "source": [
    "# Build Fct Tables\n",
    "\n",
    "I started by setting up the boxscore and scoring data tables in 'game_stats.ipynb'\n",
    "\n",
    "This file will be for the other fact tables. Currently one dedicated to betting/gambling odds. Another for the record of each team."
   ]
  },
  {
   "cell_type": "markdown",
   "metadata": {},
   "source": [
    "## Imports"
   ]
  },
  {
   "cell_type": "code",
   "execution_count": 1,
   "metadata": {},
   "outputs": [],
   "source": [
    "import pandas as pd\n",
    "import json\n",
    "import os\n",
    "import requests\n",
    "\n",
    "from dotenv import load_dotenv"
   ]
  },
  {
   "cell_type": "markdown",
   "metadata": {},
   "source": [
    "## API Credentials"
   ]
  },
  {
   "cell_type": "code",
   "execution_count": 2,
   "metadata": {},
   "outputs": [],
   "source": [
    "#Get API Key and host\n",
    "load_dotenv()\n",
    "api_token = os.getenv('nfl_api_key')\n",
    "api_host = os.getenv('rapid_api_host')\n",
    "\n",
    "#rapidapi headers\n",
    "headers = {\n",
    "\t\"X-RapidAPI-Key\": \"{key}\".format(key=api_token),\n",
    "\t\"X-RapidAPI-Host\": \"{host}\".format(host=api_host)\n",
    "}"
   ]
  },
  {
   "cell_type": "markdown",
   "metadata": {},
   "source": []
  }
 ],
 "metadata": {
  "kernelspec": {
   "display_name": "nfl",
   "language": "python",
   "name": "python3"
  },
  "language_info": {
   "codemirror_mode": {
    "name": "ipython",
    "version": 3
   },
   "file_extension": ".py",
   "mimetype": "text/x-python",
   "name": "python",
   "nbconvert_exporter": "python",
   "pygments_lexer": "ipython3",
   "version": "3.11.5"
  },
  "orig_nbformat": 4
 },
 "nbformat": 4,
 "nbformat_minor": 2
}
