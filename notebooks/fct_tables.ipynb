{
 "cells": [
  {
   "cell_type": "markdown",
   "metadata": {},
   "source": [
    "# Build Fct Tables\n",
    "\n",
    "I started by setting up the boxscore and scoring data tables in 'game_stats.ipynb'\n",
    "\n",
    "This file will be for the other fact tables. Currently one dedicated to betting/gambling odds. Another for the record of each team."
   ]
  },
  {
   "cell_type": "markdown",
   "metadata": {},
   "source": [
    "## Imports"
   ]
  },
  {
   "cell_type": "code",
   "execution_count": 1,
   "metadata": {},
   "outputs": [],
   "source": [
    "import pandas as pd\n",
    "import json\n",
    "import os\n",
    "import requests\n",
    "from datetime import datetime\n",
    "\n",
    "from dotenv import load_dotenv"
   ]
  },
  {
   "cell_type": "markdown",
   "metadata": {},
   "source": [
    "## API Credentials"
   ]
  },
  {
   "cell_type": "code",
   "execution_count": 2,
   "metadata": {},
   "outputs": [],
   "source": [
    "#Get API Key and host\n",
    "load_dotenv()\n",
    "api_token = os.getenv('nfl_api_key')\n",
    "api_host = os.getenv('rapid_api_host')\n",
    "\n",
    "#rapidapi headers\n",
    "headers = {\n",
    "\t\"X-RapidAPI-Key\": \"{key}\".format(key=api_token),\n",
    "\t\"X-RapidAPI-Host\": \"{host}\".format(host=api_host)\n",
    "}"
   ]
  },
  {
   "cell_type": "markdown",
   "metadata": {},
   "source": [
    "## Betting\n",
    "\n",
    "For this the endpoint is 'Get NFL Betting Odds'. I will use to to save off the different spreads and odds for each game, by vendor.\n",
    "\n",
    "It takes the game id to pull, so we will have to loop through each game to pull all the records. Here I'll test with one game.\n",
    "\n",
    "Unfortunately, it looks like only 2023 data for this is available at this point.\n",
    "\n",
    "### Extract"
   ]
  },
  {
   "cell_type": "code",
   "execution_count": 3,
   "metadata": {},
   "outputs": [],
   "source": [
    "#re-create sportbook mapping in dim_tables. This will be import in the final product.\n",
    "sportsbook_dict = {\n",
    "    \"betmgm\": 1,\n",
    "    \"bet365\": 2,\n",
    "    \"fanduel\": 3,\n",
    "    \"wynnbet\": 4,\n",
    "    \"unibet\": 5,\n",
    "    \"pointsbet\": 6,\n",
    "    \"betrivers\": 7,\n",
    "    \"ceasars_sportsbook\": 8,\n",
    "    \"draftkings\": 9   \n",
    "}"
   ]
  },
  {
   "cell_type": "code",
   "execution_count": 4,
   "metadata": {},
   "outputs": [],
   "source": [
    "#API Params\n",
    "#API Endpoint for NFL Team Info\n",
    "url = \"https://tank01-nfl-live-in-game-real-time-statistics-nfl.p.rapidapi.com/getNFLBettingOdds\"\n",
    "\n",
    "#pull in only main team info, none of the rosters, schedules, stats, etc.\n",
    "querystring = {\"gameID\":\"20231001_ARI@SF\"}"
   ]
  },
  {
   "cell_type": "code",
   "execution_count": 5,
   "metadata": {},
   "outputs": [],
   "source": [
    "#get betting data\n",
    "response = requests.get(url, headers=headers, params=querystring)"
   ]
  },
  {
   "cell_type": "code",
   "execution_count": 6,
   "metadata": {},
   "outputs": [
    {
     "data": {
      "text/plain": [
       "{'totalUnder': '44',\n",
       " 'awayTeamSpread': '+14.5',\n",
       " 'awayTeamSpreadOdds': '-110',\n",
       " 'homeTeamSpread': '-14.5',\n",
       " 'homeTeamSpreadOdds': '-110',\n",
       " 'totalOverOdds': '-110',\n",
       " 'totalUnderOdds': '-110',\n",
       " 'awayTeamMLOdds': '+700',\n",
       " 'homeTeamMLOdds': '-1100',\n",
       " 'totalOver': '44'}"
      ]
     },
     "execution_count": 6,
     "metadata": {},
     "output_type": "execute_result"
    }
   ],
   "source": [
    "response.json()['body']['20231001_ARI@SF']['betmgm']"
   ]
  },
  {
   "cell_type": "markdown",
   "metadata": {},
   "source": [
    "### Transform\n",
    "\n",
    "This will be fun - I think I need to iterrate through the key value pairs in the sportsbook dict to save the primary key and drill into each record.\n",
    "\n",
    "I will also need to include the game id from the API call itself and the timestamp from the root of the body.\n",
    "\n",
    "In the future if more get added to the API I'll need to catch it and add to the list. Maybe by checking the number of records compared to our dim_sportsbook table."
   ]
  },
  {
   "cell_type": "code",
   "execution_count": 7,
   "metadata": {},
   "outputs": [],
   "source": [
    "#setup body of json\n",
    "game_odds = response.json()['body']['20231001_ARI@SF']"
   ]
  },
  {
   "cell_type": "code",
   "execution_count": 8,
   "metadata": {},
   "outputs": [
    {
     "data": {
      "text/plain": [
       "'1696202171.0530152'"
      ]
     },
     "execution_count": 8,
     "metadata": {},
     "output_type": "execute_result"
    }
   ],
   "source": [
    "#view path for updated time\n",
    "game_odds['last_updated_e_time']"
   ]
  },
  {
   "cell_type": "code",
   "execution_count": 9,
   "metadata": {},
   "outputs": [
    {
     "data": {
      "text/plain": [
       "{'totalUnder': '44',\n",
       " 'awayTeamSpread': '+14.5',\n",
       " 'awayTeamSpreadOdds': '-110',\n",
       " 'homeTeamSpread': '-14.5',\n",
       " 'homeTeamSpreadOdds': '-110',\n",
       " 'totalOverOdds': '-110',\n",
       " 'totalUnderOdds': '-110',\n",
       " 'awayTeamMLOdds': '+700',\n",
       " 'homeTeamMLOdds': '-1100',\n",
       " 'totalOver': '44'}"
      ]
     },
     "execution_count": 9,
     "metadata": {},
     "output_type": "execute_result"
    }
   ],
   "source": [
    "#view path for a sportsbook\n",
    "game_odds['betmgm']"
   ]
  },
  {
   "cell_type": "code",
   "execution_count": 10,
   "metadata": {},
   "outputs": [],
   "source": [
    "#setup empty list for savings the data in individual records\n",
    "betting_data_list = []"
   ]
  },
  {
   "cell_type": "code",
   "execution_count": 11,
   "metadata": {},
   "outputs": [],
   "source": [
    "#loop through sportsbook dict to create data for each game\n",
    "for key, value in sportsbook_dict.items():\n",
    "    \n",
    "    #set updated time\n",
    "    updated_time = game_odds['last_updated_e_time']\n",
    "\n",
    "    try: #try to grab data for each sportsbook, but pass if that sportsbook doesn't have a record\n",
    "        #drill into sportsbook\n",
    "        sportsbook_data = game_odds['{sportsbook}'.format(sportsbook=key)]\n",
    "\n",
    "        #create dictionary to append to list\n",
    "        betting_odds = {\n",
    "            \"game_id\": \"20231001_ARI@SF\",\n",
    "            \"last_update\": updated_time,\n",
    "            \"sportsbook_id\": value,\n",
    "            \"total_over_under\": sportsbook_data['totalOver'],\n",
    "            \"over_odds\": sportsbook_data['totalOverOdds'],\n",
    "            \"under_odds\": sportsbook_data['totalUnderOdds'],\n",
    "            \"home_spread\": sportsbook_data['homeTeamSpread'],\n",
    "            \"home_odds\": sportsbook_data['homeTeamSpreadOdds'],\n",
    "            \"away_spread\": sportsbook_data['awayTeamSpread'],\n",
    "            \"away_odds\": sportsbook_data['awayTeamSpreadOdds'],\n",
    "            \"home_ml_odds\": sportsbook_data['homeTeamMLOdds'],\n",
    "            \"away_ml_odds\": sportsbook_data['awayTeamMLOdds']\n",
    "        }\n",
    "\n",
    "        betting_data_list.append(betting_odds)\n",
    "    \n",
    "    except KeyError:\n",
    "        pass"
   ]
  },
  {
   "cell_type": "code",
   "execution_count": 13,
   "metadata": {},
   "outputs": [],
   "source": [
    "dtype_mapping = {\n",
    "    \"game_id\": 'object',\n",
    "    \"last_update\": 'float',  # Update to datetime after mapping\n",
    "    \"sportsbook_id\": 'int64', \n",
    "    \"total_over_under\": 'float',\n",
    "    \"over_odds\": 'object',\n",
    "    \"under_odds\": 'object',\n",
    "    \"home_spread\": 'object',\n",
    "    \"home_odds\": 'object',\n",
    "    \"away_spread\": 'object',\n",
    "    \"away_odds\": 'object',\n",
    "    \"home_ml_odds\": 'object',\n",
    "    \"away_ml_odds\": 'object'\n",
    "} "
   ]
  },
  {
   "cell_type": "code",
   "execution_count": 14,
   "metadata": {},
   "outputs": [],
   "source": [
    "betting_df = pd.DataFrame(betting_data_list)\n",
    "betting_df = betting_df.astype(dtype_mapping)"
   ]
  },
  {
   "cell_type": "code",
   "execution_count": 15,
   "metadata": {},
   "outputs": [],
   "source": [
    "betting_df['last_update'] = pd.to_datetime(betting_df['last_update'], unit='s')"
   ]
  },
  {
   "cell_type": "code",
   "execution_count": 16,
   "metadata": {},
   "outputs": [
    {
     "data": {
      "text/html": [
       "<div>\n",
       "<style scoped>\n",
       "    .dataframe tbody tr th:only-of-type {\n",
       "        vertical-align: middle;\n",
       "    }\n",
       "\n",
       "    .dataframe tbody tr th {\n",
       "        vertical-align: top;\n",
       "    }\n",
       "\n",
       "    .dataframe thead th {\n",
       "        text-align: right;\n",
       "    }\n",
       "</style>\n",
       "<table border=\"1\" class=\"dataframe\">\n",
       "  <thead>\n",
       "    <tr style=\"text-align: right;\">\n",
       "      <th></th>\n",
       "      <th>game_id</th>\n",
       "      <th>last_update</th>\n",
       "      <th>sportsbook_id</th>\n",
       "      <th>total_over_under</th>\n",
       "      <th>over_odds</th>\n",
       "      <th>under_odds</th>\n",
       "      <th>home_spread</th>\n",
       "      <th>home_odds</th>\n",
       "      <th>away_spread</th>\n",
       "      <th>away_odds</th>\n",
       "      <th>home_ml_odds</th>\n",
       "      <th>away_ml_odds</th>\n",
       "    </tr>\n",
       "  </thead>\n",
       "  <tbody>\n",
       "    <tr>\n",
       "      <th>0</th>\n",
       "      <td>20231001_ARI@SF</td>\n",
       "      <td>2023-10-01 23:16:11.053015296</td>\n",
       "      <td>1</td>\n",
       "      <td>44.0</td>\n",
       "      <td>-110</td>\n",
       "      <td>-110</td>\n",
       "      <td>-14.5</td>\n",
       "      <td>-110</td>\n",
       "      <td>+14.5</td>\n",
       "      <td>-110</td>\n",
       "      <td>-1100</td>\n",
       "      <td>+700</td>\n",
       "    </tr>\n",
       "    <tr>\n",
       "      <th>1</th>\n",
       "      <td>20231001_ARI@SF</td>\n",
       "      <td>2023-10-01 23:16:11.053015296</td>\n",
       "      <td>2</td>\n",
       "      <td>44.0</td>\n",
       "      <td>-110</td>\n",
       "      <td>-110</td>\n",
       "      <td>-15</td>\n",
       "      <td>-110</td>\n",
       "      <td>+15</td>\n",
       "      <td>-110</td>\n",
       "      <td>-1100</td>\n",
       "      <td>+700</td>\n",
       "    </tr>\n",
       "    <tr>\n",
       "      <th>2</th>\n",
       "      <td>20231001_ARI@SF</td>\n",
       "      <td>2023-10-01 23:16:11.053015296</td>\n",
       "      <td>3</td>\n",
       "      <td>43.5</td>\n",
       "      <td>-114</td>\n",
       "      <td>-106</td>\n",
       "      <td>-14.5</td>\n",
       "      <td>-115</td>\n",
       "      <td>+14.5</td>\n",
       "      <td>-105</td>\n",
       "      <td>-1200</td>\n",
       "      <td>+750</td>\n",
       "    </tr>\n",
       "    <tr>\n",
       "      <th>3</th>\n",
       "      <td>20231001_ARI@SF</td>\n",
       "      <td>2023-10-01 23:16:11.053015296</td>\n",
       "      <td>5</td>\n",
       "      <td>44.0</td>\n",
       "      <td>-106</td>\n",
       "      <td>-115</td>\n",
       "      <td>-14.5</td>\n",
       "      <td>-109</td>\n",
       "      <td>+14.5</td>\n",
       "      <td>-112</td>\n",
       "      <td>-1000</td>\n",
       "      <td>+700</td>\n",
       "    </tr>\n",
       "    <tr>\n",
       "      <th>4</th>\n",
       "      <td>20231001_ARI@SF</td>\n",
       "      <td>2023-10-01 23:16:11.053015296</td>\n",
       "      <td>6</td>\n",
       "      <td>44.0</td>\n",
       "      <td>-110</td>\n",
       "      <td>-110</td>\n",
       "      <td>-16</td>\n",
       "      <td>-110</td>\n",
       "      <td>+16</td>\n",
       "      <td>-110</td>\n",
       "      <td>-1099</td>\n",
       "      <td>+700</td>\n",
       "    </tr>\n",
       "  </tbody>\n",
       "</table>\n",
       "</div>"
      ],
      "text/plain": [
       "           game_id                   last_update  sportsbook_id  \\\n",
       "0  20231001_ARI@SF 2023-10-01 23:16:11.053015296              1   \n",
       "1  20231001_ARI@SF 2023-10-01 23:16:11.053015296              2   \n",
       "2  20231001_ARI@SF 2023-10-01 23:16:11.053015296              3   \n",
       "3  20231001_ARI@SF 2023-10-01 23:16:11.053015296              5   \n",
       "4  20231001_ARI@SF 2023-10-01 23:16:11.053015296              6   \n",
       "\n",
       "   total_over_under over_odds under_odds home_spread home_odds away_spread  \\\n",
       "0              44.0      -110       -110       -14.5      -110       +14.5   \n",
       "1              44.0      -110       -110         -15      -110         +15   \n",
       "2              43.5      -114       -106       -14.5      -115       +14.5   \n",
       "3              44.0      -106       -115       -14.5      -109       +14.5   \n",
       "4              44.0      -110       -110         -16      -110         +16   \n",
       "\n",
       "  away_odds home_ml_odds away_ml_odds  \n",
       "0      -110        -1100         +700  \n",
       "1      -110        -1100         +700  \n",
       "2      -105        -1200         +750  \n",
       "3      -112        -1000         +700  \n",
       "4      -110        -1099         +700  "
      ]
     },
     "execution_count": 16,
     "metadata": {},
     "output_type": "execute_result"
    }
   ],
   "source": [
    "betting_df.head()"
   ]
  },
  {
   "cell_type": "code",
   "execution_count": 12,
   "metadata": {},
   "outputs": [
    {
     "data": {
      "text/plain": [
       "[{'game_id': '20231001_ARI@SF',\n",
       "  'last_update': '1696202171.0530152',\n",
       "  'sportsbook_id': 1,\n",
       "  'total_over_under': '44',\n",
       "  'over_odds': '-110',\n",
       "  'under_odds': '-110',\n",
       "  'home_spread': '-14.5',\n",
       "  'home_odds': '-110',\n",
       "  'away_spread': '+14.5',\n",
       "  'away_odds': '-110',\n",
       "  'home_ml_odds': '-1100',\n",
       "  'away_ml_odds': '+700'},\n",
       " {'game_id': '20231001_ARI@SF',\n",
       "  'last_update': '1696202171.0530152',\n",
       "  'sportsbook_id': 2,\n",
       "  'total_over_under': '44',\n",
       "  'over_odds': '-110',\n",
       "  'under_odds': '-110',\n",
       "  'home_spread': '-15',\n",
       "  'home_odds': '-110',\n",
       "  'away_spread': '+15',\n",
       "  'away_odds': '-110',\n",
       "  'home_ml_odds': '-1100',\n",
       "  'away_ml_odds': '+700'}]"
      ]
     },
     "execution_count": 12,
     "metadata": {},
     "output_type": "execute_result"
    }
   ],
   "source": [
    "betting_data_list[:2]"
   ]
  },
  {
   "cell_type": "markdown",
   "metadata": {},
   "source": [
    "That looks pretty good for now.\n",
    "\n",
    "## Record\n",
    "\n",
    "The same place we pulled the teams from has the record information. I could also just do a transformation from all of my game data. It allows pulling all the data in one API call. Which seems like it should be less of a processing workload than calculating in the background. I'll go with that.\n",
    "\n",
    "The weeks of the season covered by this data isn't included. We can't use the record because of varying bye-weeks. My idea is to add in the datetime the data is ran, then when aggregating all the data I can check the run data and only flag the max as active vs. non. Then if I want to join it to another table I can filter to the record data that is flagged as the most recent.\n",
    "\n",
    "I do need to find a way to flag the season. I geuss I could to this for the week too, but doing this with the season that doesn't change very often seems way easier!\n",
    "\n",
    "### Extract"
   ]
  },
  {
   "cell_type": "code",
   "execution_count": 4,
   "metadata": {},
   "outputs": [],
   "source": [
    "#API Params\n",
    "#API Endpoint for NFL Team Info\n",
    "url = \"https://tank01-nfl-live-in-game-real-time-statistics-nfl.p.rapidapi.com/getNFLTeams\"\n",
    "\n",
    "#pull in only main team info, none of the rosters, schedules, stats, etc.\n",
    "querystring = {\"rosters\":\"false\",\"schedules\":\"false\",\"topPerformers\":\"false\",\"teamStats\":\"false\"}"
   ]
  },
  {
   "cell_type": "code",
   "execution_count": 5,
   "metadata": {},
   "outputs": [],
   "source": [
    "#get team data\n",
    "response = requests.get(url, headers=headers, params=querystring)"
   ]
  },
  {
   "cell_type": "code",
   "execution_count": 7,
   "metadata": {},
   "outputs": [
    {
     "data": {
      "text/plain": [
       "{'teamAbv': 'ARI',\n",
       " 'teamCity': 'Arizona',\n",
       " 'currentStreak': {'result': 'W', 'length': '1'},\n",
       " 'loss': '2',\n",
       " 'teamName': 'Cardinals',\n",
       " 'nflComLogo1': 'https://static.www.nfl.com/image/private/f_auto/league/u9fltoslqdsyao8cpm0k',\n",
       " 'teamID': '1',\n",
       " 'tie': '0',\n",
       " 'pa': '67',\n",
       " 'pf': '72',\n",
       " 'espnLogo1': 'https://a.espncdn.com/combiner/i?img=/i/teamlogos/nfl/500/ari.png',\n",
       " 'wins': '1'}"
      ]
     },
     "execution_count": 7,
     "metadata": {},
     "output_type": "execute_result"
    }
   ],
   "source": [
    "#view details\n",
    "response.json()['body'][0]"
   ]
  },
  {
   "cell_type": "markdown",
   "metadata": {},
   "source": [
    "### Transform"
   ]
  },
  {
   "cell_type": "code",
   "execution_count": 10,
   "metadata": {},
   "outputs": [],
   "source": [
    "team_data = response.json()['body']"
   ]
  },
  {
   "cell_type": "code",
   "execution_count": 12,
   "metadata": {},
   "outputs": [],
   "source": [
    "record_list = []"
   ]
  },
  {
   "cell_type": "code",
   "execution_count": 14,
   "metadata": {},
   "outputs": [],
   "source": [
    "refresh_timestamp = datetime.now()"
   ]
  },
  {
   "cell_type": "code",
   "execution_count": 17,
   "metadata": {},
   "outputs": [],
   "source": [
    "#loop through each team to save their record data\n",
    "for team in team_data:\n",
    "    #save dictionary\n",
    "    record_dict = {\n",
    "        \"team_id\": team['teamID'],\n",
    "        \"updated_datetime\": refresh_timestamp,\n",
    "        \"season\": 2023,\n",
    "        \"wins\": team['wins'],\n",
    "        \"loses\": team['loss'],\n",
    "        \"ties\": team['tie'],\n",
    "        \"points_for\": team['pf'],\n",
    "        \"points_against\": team['pa']\n",
    "    }\n",
    "\n",
    "    record_list.append(record_dict)"
   ]
  },
  {
   "cell_type": "code",
   "execution_count": 18,
   "metadata": {},
   "outputs": [
    {
     "data": {
      "text/plain": [
       "[{'team_id': '1',\n",
       "  'updated_datetime': datetime.datetime(2023, 9, 30, 20, 15, 38, 136250),\n",
       "  'season': 2023,\n",
       "  'wins': '1',\n",
       "  'loses': '2',\n",
       "  'ties': '0',\n",
       "  'points_for': '72',\n",
       "  'points_against': '67'},\n",
       " {'team_id': '2',\n",
       "  'updated_datetime': datetime.datetime(2023, 9, 30, 20, 15, 38, 136250),\n",
       "  'season': 2023,\n",
       "  'wins': '2',\n",
       "  'loses': '1',\n",
       "  'ties': '0',\n",
       "  'points_for': '55',\n",
       "  'points_against': '54'}]"
      ]
     },
     "execution_count": 18,
     "metadata": {},
     "output_type": "execute_result"
    }
   ],
   "source": [
    "record_list[:2]"
   ]
  }
 ],
 "metadata": {
  "kernelspec": {
   "display_name": "nfl",
   "language": "python",
   "name": "python3"
  },
  "language_info": {
   "codemirror_mode": {
    "name": "ipython",
    "version": 3
   },
   "file_extension": ".py",
   "mimetype": "text/x-python",
   "name": "python",
   "nbconvert_exporter": "python",
   "pygments_lexer": "ipython3",
   "version": "3.11.5"
  },
  "orig_nbformat": 4
 },
 "nbformat": 4,
 "nbformat_minor": 2
}
