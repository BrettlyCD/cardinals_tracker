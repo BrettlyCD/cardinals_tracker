{
 "cells": [
  {
   "cell_type": "markdown",
   "metadata": {},
   "source": [
    "# Load Prep\n",
    "\n",
    "Using this notebook to test the structure and load of our data into the Postgres tables."
   ]
  },
  {
   "cell_type": "markdown",
   "metadata": {},
   "source": [
    "## Imports"
   ]
  },
  {
   "cell_type": "code",
   "execution_count": 22,
   "metadata": {},
   "outputs": [],
   "source": [
    "import pandas as pd\n",
    "import numpy as np\n",
    "import psycopg2\n",
    "import os\n",
    "import datetime\n",
    "import time\n",
    "from dotenv import load_dotenv"
   ]
  },
  {
   "cell_type": "markdown",
   "metadata": {},
   "source": [
    "## Get into format for load\n",
    "\n",
    "My process for the test will be to load in one of the sample CSVs into a dataframe and loop through the values to get INSERT statements built. The actual workflow will be different start from the API instead of the CSV.\n",
    "\n",
    "I think I'll test on one with a date value to make sure I get a chance to see how that preps. DIM_DATE would be a good one.\n",
    "\n",
    "Plus this one isn't dependet on any others, so I'll try it.\n",
    "\n",
    "### Load DataFrame"
   ]
  },
  {
   "cell_type": "code",
   "execution_count": 2,
   "metadata": {},
   "outputs": [
    {
     "data": {
      "text/html": [
       "<div>\n",
       "<style scoped>\n",
       "    .dataframe tbody tr th:only-of-type {\n",
       "        vertical-align: middle;\n",
       "    }\n",
       "\n",
       "    .dataframe tbody tr th {\n",
       "        vertical-align: top;\n",
       "    }\n",
       "\n",
       "    .dataframe thead th {\n",
       "        text-align: right;\n",
       "    }\n",
       "</style>\n",
       "<table border=\"1\" class=\"dataframe\">\n",
       "  <thead>\n",
       "    <tr style=\"text-align: right;\">\n",
       "      <th></th>\n",
       "      <th>date_id</th>\n",
       "      <th>full_date</th>\n",
       "      <th>day_of_week</th>\n",
       "      <th>day_of_week_num</th>\n",
       "      <th>day_of_month</th>\n",
       "      <th>month</th>\n",
       "      <th>quarter</th>\n",
       "      <th>year</th>\n",
       "    </tr>\n",
       "  </thead>\n",
       "  <tbody>\n",
       "    <tr>\n",
       "      <th>0</th>\n",
       "      <td>20220101</td>\n",
       "      <td>2022-01-01</td>\n",
       "      <td>Saturday</td>\n",
       "      <td>7</td>\n",
       "      <td>1</td>\n",
       "      <td>1</td>\n",
       "      <td>1</td>\n",
       "      <td>2022</td>\n",
       "    </tr>\n",
       "    <tr>\n",
       "      <th>1</th>\n",
       "      <td>20220102</td>\n",
       "      <td>2022-01-02</td>\n",
       "      <td>Sunday</td>\n",
       "      <td>1</td>\n",
       "      <td>2</td>\n",
       "      <td>1</td>\n",
       "      <td>1</td>\n",
       "      <td>2022</td>\n",
       "    </tr>\n",
       "    <tr>\n",
       "      <th>2</th>\n",
       "      <td>20220103</td>\n",
       "      <td>2022-01-03</td>\n",
       "      <td>Monday</td>\n",
       "      <td>2</td>\n",
       "      <td>3</td>\n",
       "      <td>1</td>\n",
       "      <td>1</td>\n",
       "      <td>2022</td>\n",
       "    </tr>\n",
       "    <tr>\n",
       "      <th>3</th>\n",
       "      <td>20220104</td>\n",
       "      <td>2022-01-04</td>\n",
       "      <td>Tuesday</td>\n",
       "      <td>3</td>\n",
       "      <td>4</td>\n",
       "      <td>1</td>\n",
       "      <td>1</td>\n",
       "      <td>2022</td>\n",
       "    </tr>\n",
       "    <tr>\n",
       "      <th>4</th>\n",
       "      <td>20220105</td>\n",
       "      <td>2022-01-05</td>\n",
       "      <td>Wednesday</td>\n",
       "      <td>4</td>\n",
       "      <td>5</td>\n",
       "      <td>1</td>\n",
       "      <td>1</td>\n",
       "      <td>2022</td>\n",
       "    </tr>\n",
       "  </tbody>\n",
       "</table>\n",
       "</div>"
      ],
      "text/plain": [
       "    date_id  full_date day_of_week  day_of_week_num  day_of_month  month  \\\n",
       "0  20220101 2022-01-01    Saturday                7             1      1   \n",
       "1  20220102 2022-01-02      Sunday                1             2      1   \n",
       "2  20220103 2022-01-03      Monday                2             3      1   \n",
       "3  20220104 2022-01-04     Tuesday                3             4      1   \n",
       "4  20220105 2022-01-05   Wednesday                4             5      1   \n",
       "\n",
       "   quarter  year  \n",
       "0        1  2022  \n",
       "1        1  2022  \n",
       "2        1  2022  \n",
       "3        1  2022  \n",
       "4        1  2022  "
      ]
     },
     "execution_count": 2,
     "metadata": {},
     "output_type": "execute_result"
    }
   ],
   "source": [
    "#load\n",
    "df_date = pd.read_csv('../data/Exports/dim_date.csv')\n",
    "\n",
    "#convert to date format\n",
    "df_date['full_date'] = pd.to_datetime(df_date['full_date'])\n",
    "\n",
    "#drop unnamed\n",
    "df_date = df_date.drop(columns='Unnamed: 0')\n",
    "\n",
    "df_date.head()"
   ]
  },
  {
   "cell_type": "markdown",
   "metadata": {},
   "source": [
    "### Create INSERT Statements\n",
    "\n",
    "I think there is a pandas function 'to_sql', but I want to be able to see under the hood a little more. So I want to itterate through the records to create SQL insert statements that can then be run using sqlalchemy or psycopg2."
   ]
  },
  {
   "cell_type": "code",
   "execution_count": 3,
   "metadata": {},
   "outputs": [],
   "source": [
    "#set data table name\n",
    "schema_table = 'nfl.dim_date'"
   ]
  },
  {
   "cell_type": "code",
   "execution_count": 4,
   "metadata": {},
   "outputs": [],
   "source": [
    "#save column names to a list\n",
    "column_names = df_date.columns.tolist()"
   ]
  },
  {
   "cell_type": "code",
   "execution_count": 5,
   "metadata": {},
   "outputs": [],
   "source": [
    "#create empty list to store insert statements\n",
    "insert_statements = []\n",
    "\n",
    "for index, row in df_date.iterrows():\n",
    "    values = ', '.join([f\"'{val}'\" if isinstance(val, (str, datetime.datetime)) and not pd.isna(val) else 'NULL' if pd.isna(val) else str(val) for val in row])\n",
    "    insert_statement = f\"INSERT INTO {schema_table} ({', '.join(column_names)}) VALUES ({values});\"\n",
    "    insert_statements.append(insert_statement)"
   ]
  },
  {
   "cell_type": "code",
   "execution_count": 6,
   "metadata": {},
   "outputs": [
    {
     "name": "stdout",
     "output_type": "stream",
     "text": [
      "INSERT INTO nfl.dim_date (date_id, full_date, day_of_week, day_of_week_num, day_of_month, month, quarter, year) VALUES (20220101, '2022-01-01 00:00:00', 'Saturday', 7, 1, 1, 1, 2022);\n",
      "INSERT INTO nfl.dim_date (date_id, full_date, day_of_week, day_of_week_num, day_of_month, month, quarter, year) VALUES (20220102, '2022-01-02 00:00:00', 'Sunday', 1, 2, 1, 1, 2022);\n",
      "INSERT INTO nfl.dim_date (date_id, full_date, day_of_week, day_of_week_num, day_of_month, month, quarter, year) VALUES (20220103, '2022-01-03 00:00:00', 'Monday', 2, 3, 1, 1, 2022);\n"
     ]
    }
   ],
   "source": [
    "for sql in insert_statements[:3]:\n",
    "    print(sql)"
   ]
  },
  {
   "cell_type": "markdown",
   "metadata": {},
   "source": [
    "Looks good! Now for the actual load test.\n",
    "\n",
    "### Test Load to PostgreSQL Database"
   ]
  },
  {
   "cell_type": "code",
   "execution_count": 7,
   "metadata": {},
   "outputs": [],
   "source": [
    "#setup connection variables\n",
    "# Load .env to get PostgreSQL user login info\n",
    "load_dotenv()\n",
    "\n",
    "# set postgres access variables\n",
    "db_host = 'localhost'\n",
    "db_user = os.getenv('psql_username')\n",
    "db_password = os.getenv('psql_password')\n",
    "db_name = 'team_flow'\n",
    "\n",
    "#put connection details into params variable\n",
    "db_params = {\n",
    "    'host': '{host}'.format(host=db_host),\n",
    "    'database': '{database}'.format(database=db_name),  \n",
    "    'user': '{user}'.format(user=db_user),\n",
    "    'password': '{password}'.format(password=db_password)\n",
    "}"
   ]
  },
  {
   "cell_type": "code",
   "execution_count": 9,
   "metadata": {},
   "outputs": [
    {
     "data": {
      "text/plain": [
       "730"
      ]
     },
     "execution_count": 9,
     "metadata": {},
     "output_type": "execute_result"
    }
   ],
   "source": [
    "len(insert_statements)"
   ]
  },
  {
   "cell_type": "code",
   "execution_count": 8,
   "metadata": {},
   "outputs": [
    {
     "name": "stdout",
     "output_type": "stream",
     "text": [
      "1 records inserted successfully into nfl.dim_date table\n"
     ]
    }
   ],
   "source": [
    "#try load\n",
    "try:\n",
    "    #setup connection and cursor\n",
    "    conn = psycopg2.connect(**db_params)\n",
    "    cursor = conn.cursor()\n",
    "\n",
    "    #insert data\n",
    "    for sql in insert_statements:\n",
    "        cursor.execute(sql)\n",
    "\n",
    "    #commit changes\n",
    "    conn.commit()\n",
    "\n",
    "    count = len(insert_statements)\n",
    "    print(count, \"records inserted successfully into {schema_table} table\".format(schema_table=schema_table))\n",
    "\n",
    "except (Exception, psycopg2.Error) as error:\n",
    "    print(f\"Error: {error}\")\n",
    "\n",
    "finally:\n",
    "    # Close the cursor and connection\n",
    "    if cursor:\n",
    "        cursor.close()\n",
    "    if conn:\n",
    "        conn.close()"
   ]
  },
  {
   "cell_type": "markdown",
   "metadata": {},
   "source": [
    "I made an update there to not just say 1 record updated, but the actual count.\n",
    "\n",
    "But now with that let's move on to the game data and betting to get a nice chain of dependent loads.\n",
    "\n",
    "### Load Dataframe"
   ]
  },
  {
   "cell_type": "code",
   "execution_count": 16,
   "metadata": {},
   "outputs": [
    {
     "data": {
      "text/html": [
       "<div>\n",
       "<style scoped>\n",
       "    .dataframe tbody tr th:only-of-type {\n",
       "        vertical-align: middle;\n",
       "    }\n",
       "\n",
       "    .dataframe tbody tr th {\n",
       "        vertical-align: top;\n",
       "    }\n",
       "\n",
       "    .dataframe thead th {\n",
       "        text-align: right;\n",
       "    }\n",
       "</style>\n",
       "<table border=\"1\" class=\"dataframe\">\n",
       "  <thead>\n",
       "    <tr style=\"text-align: right;\">\n",
       "      <th></th>\n",
       "      <th>game_id</th>\n",
       "      <th>game_date_id</th>\n",
       "      <th>game_type_id</th>\n",
       "      <th>home_team_id</th>\n",
       "      <th>away_team_id</th>\n",
       "      <th>game_start_time</th>\n",
       "      <th>game_location</th>\n",
       "      <th>game_arena</th>\n",
       "      <th>is_neutral_site_flag</th>\n",
       "      <th>espn_link</th>\n",
       "      <th>cbs_link</th>\n",
       "    </tr>\n",
       "  </thead>\n",
       "  <tbody>\n",
       "    <tr>\n",
       "      <th>0</th>\n",
       "      <td>20220911_KC@ARI</td>\n",
       "      <td>20220911</td>\n",
       "      <td>2</td>\n",
       "      <td>1</td>\n",
       "      <td>16</td>\n",
       "      <td>4:25p</td>\n",
       "      <td>Glendale, AZ</td>\n",
       "      <td>NaN</td>\n",
       "      <td>0</td>\n",
       "      <td>https://www.espn.com/nfl/boxscore/_/gameId/401...</td>\n",
       "      <td>https://www.cbssports.com/nfl/gametracker/boxs...</td>\n",
       "    </tr>\n",
       "    <tr>\n",
       "      <th>1</th>\n",
       "      <td>20220918_ARI@LV</td>\n",
       "      <td>20220918</td>\n",
       "      <td>2</td>\n",
       "      <td>17</td>\n",
       "      <td>1</td>\n",
       "      <td>4:25p</td>\n",
       "      <td>Las Vegas, NV</td>\n",
       "      <td>NaN</td>\n",
       "      <td>0</td>\n",
       "      <td>https://www.espn.com/nfl/boxscore/_/gameId/401...</td>\n",
       "      <td>https://www.cbssports.com/nfl/gametracker/boxs...</td>\n",
       "    </tr>\n",
       "  </tbody>\n",
       "</table>\n",
       "</div>"
      ],
      "text/plain": [
       "           game_id  game_date_id  game_type_id  home_team_id  away_team_id  \\\n",
       "0  20220911_KC@ARI      20220911             2             1            16   \n",
       "1  20220918_ARI@LV      20220918             2            17             1   \n",
       "\n",
       "  game_start_time  game_location  game_arena  is_neutral_site_flag  \\\n",
       "0           4:25p   Glendale, AZ         NaN                     0   \n",
       "1           4:25p  Las Vegas, NV         NaN                     0   \n",
       "\n",
       "                                           espn_link  \\\n",
       "0  https://www.espn.com/nfl/boxscore/_/gameId/401...   \n",
       "1  https://www.espn.com/nfl/boxscore/_/gameId/401...   \n",
       "\n",
       "                                            cbs_link  \n",
       "0  https://www.cbssports.com/nfl/gametracker/boxs...  \n",
       "1  https://www.cbssports.com/nfl/gametracker/boxs...  "
      ]
     },
     "execution_count": 16,
     "metadata": {},
     "output_type": "execute_result"
    }
   ],
   "source": [
    "#load\n",
    "df_game = pd.read_csv('../data/Exports/dim_game.csv')\n",
    "\n",
    "#drop unnamed\n",
    "df_game = df_game.drop(columns='Unnamed: 0')\n",
    "\n",
    "df_game.head()"
   ]
  },
  {
   "cell_type": "markdown",
   "metadata": {},
   "source": [
    "### Create INSERT Statements"
   ]
  },
  {
   "cell_type": "code",
   "execution_count": 17,
   "metadata": {},
   "outputs": [],
   "source": [
    "#set data table name\n",
    "schema_table = 'nfl.dim_game'"
   ]
  },
  {
   "cell_type": "code",
   "execution_count": 18,
   "metadata": {},
   "outputs": [],
   "source": [
    "#save column names to a list\n",
    "column_names = df_game.columns.tolist()"
   ]
  },
  {
   "cell_type": "code",
   "execution_count": 26,
   "metadata": {},
   "outputs": [
    {
     "data": {
      "text/plain": [
       "['game_id',\n",
       " 'game_date_id',\n",
       " 'game_type_id',\n",
       " 'home_team_id',\n",
       " 'away_team_id',\n",
       " 'game_start_time',\n",
       " 'game_location',\n",
       " 'game_arena',\n",
       " 'is_neutral_site_flag',\n",
       " 'espn_link',\n",
       " 'cbs_link']"
      ]
     },
     "execution_count": 26,
     "metadata": {},
     "output_type": "execute_result"
    }
   ],
   "source": [
    "column_names"
   ]
  },
  {
   "cell_type": "code",
   "execution_count": 23,
   "metadata": {},
   "outputs": [],
   "source": [
    "#create empty list to store insert statements\n",
    "insert_statements = []\n",
    "\n",
    "for index, row in df_game.iterrows():\n",
    "    values = ', '.join([f\"'{val}'\" if isinstance(val, (str, datetime.datetime)) and not pd.isna(val) else 'NULL' if pd.isna(val) else str(val) for val in row])\n",
    "    insert_statement = f\"INSERT INTO {schema_table} ({', '.join(column_names)}) VALUES ({values});\"\n",
    "    insert_statements.append(insert_statement)"
   ]
  },
  {
   "cell_type": "code",
   "execution_count": 24,
   "metadata": {},
   "outputs": [
    {
     "name": "stdout",
     "output_type": "stream",
     "text": [
      "INSERT INTO nfl.dim_game (game_id, game_date_id, game_type_id, home_team_id, away_team_id, game_start_time, game_location, game_arena, is_neutral_site_flag, espn_link, cbs_link) VALUES ('20220911_KC@ARI', 20220911, 2, 1, 16, '4:25p', 'Glendale, AZ', NULL, 0, 'https://www.espn.com/nfl/boxscore/_/gameId/401437653', 'https://www.cbssports.com/nfl/gametracker/boxscore/NFL_20220911_KC@ARI');\n",
      "INSERT INTO nfl.dim_game (game_id, game_date_id, game_type_id, home_team_id, away_team_id, game_start_time, game_location, game_arena, is_neutral_site_flag, espn_link, cbs_link) VALUES ('20220918_ARI@LV', 20220918, 2, 17, 1, '4:25p', 'Las Vegas, NV', NULL, 0, 'https://www.espn.com/nfl/boxscore/_/gameId/401437642', 'https://www.cbssports.com/nfl/gametracker/boxscore/NFL_20220918_ARI@LV');\n"
     ]
    }
   ],
   "source": [
    "for sql in insert_statements[:3]:\n",
    "    print(sql)"
   ]
  },
  {
   "cell_type": "markdown",
   "metadata": {},
   "source": [
    "### Load to Database"
   ]
  },
  {
   "cell_type": "code",
   "execution_count": 25,
   "metadata": {},
   "outputs": [
    {
     "name": "stdout",
     "output_type": "stream",
     "text": [
      "Error: insert or update on table \"dim_game\" violates foreign key constraint \"fk_dim_game_game_type\"\n",
      "DETAIL:  Key (game_type_id)=(2) is not present in table \"dim_game_type\".\n",
      "\n"
     ]
    }
   ],
   "source": [
    "#try load\n",
    "try:\n",
    "    #setup connection and cursor\n",
    "    conn = psycopg2.connect(**db_params)\n",
    "    cursor = conn.cursor()\n",
    "\n",
    "    #insert data\n",
    "    for sql in insert_statements:\n",
    "        cursor.execute(sql)\n",
    "\n",
    "    #commit changes\n",
    "    conn.commit()\n",
    "\n",
    "    count = cursor.rowcount\n",
    "    print(count, \"records inserted successfully into {schema.table} table\".format(schema_table=schema_table))\n",
    "\n",
    "except (Exception, psycopg2.Error) as error:\n",
    "    print(f\"Error: {error}\")\n",
    "\n",
    "finally:\n",
    "    # Close the cursor and connection\n",
    "    if cursor:\n",
    "        cursor.close()\n",
    "    if conn:\n",
    "        conn.close()"
   ]
  },
  {
   "cell_type": "code",
   "execution_count": null,
   "metadata": {},
   "outputs": [],
   "source": []
  },
  {
   "cell_type": "code",
   "execution_count": null,
   "metadata": {},
   "outputs": [],
   "source": []
  },
  {
   "cell_type": "code",
   "execution_count": null,
   "metadata": {},
   "outputs": [],
   "source": []
  },
  {
   "cell_type": "code",
   "execution_count": 2,
   "metadata": {},
   "outputs": [
    {
     "data": {
      "text/html": [
       "<div>\n",
       "<style scoped>\n",
       "    .dataframe tbody tr th:only-of-type {\n",
       "        vertical-align: middle;\n",
       "    }\n",
       "\n",
       "    .dataframe tbody tr th {\n",
       "        vertical-align: top;\n",
       "    }\n",
       "\n",
       "    .dataframe thead th {\n",
       "        text-align: right;\n",
       "    }\n",
       "</style>\n",
       "<table border=\"1\" class=\"dataframe\">\n",
       "  <thead>\n",
       "    <tr style=\"text-align: right;\">\n",
       "      <th></th>\n",
       "      <th>Unnamed: 0</th>\n",
       "      <th>game_id</th>\n",
       "      <th>sportsbook_id</th>\n",
       "      <th>last_update</th>\n",
       "      <th>total_over_under</th>\n",
       "      <th>over_odds</th>\n",
       "      <th>under_odds</th>\n",
       "      <th>home_spread</th>\n",
       "      <th>home_odds</th>\n",
       "      <th>away_spread</th>\n",
       "      <th>away_odds</th>\n",
       "      <th>home_ml_odds</th>\n",
       "      <th>away_ml_odds</th>\n",
       "    </tr>\n",
       "  </thead>\n",
       "  <tbody>\n",
       "    <tr>\n",
       "      <th>0</th>\n",
       "      <td>0</td>\n",
       "      <td>20230924_DAL@ARI</td>\n",
       "      <td>1</td>\n",
       "      <td>2023-09-24 13:26:08.483308800</td>\n",
       "      <td>43.0</td>\n",
       "      <td>-110</td>\n",
       "      <td>-110</td>\n",
       "      <td>12.5</td>\n",
       "      <td>-105</td>\n",
       "      <td>-12.5</td>\n",
       "      <td>-115</td>\n",
       "      <td>525</td>\n",
       "      <td>-750</td>\n",
       "    </tr>\n",
       "    <tr>\n",
       "      <th>1</th>\n",
       "      <td>1</td>\n",
       "      <td>20230924_DAL@ARI</td>\n",
       "      <td>2</td>\n",
       "      <td>2023-09-24 13:26:08.483308800</td>\n",
       "      <td>43.0</td>\n",
       "      <td>-110</td>\n",
       "      <td>-110</td>\n",
       "      <td>13.0</td>\n",
       "      <td>-110</td>\n",
       "      <td>-13.0</td>\n",
       "      <td>-110</td>\n",
       "      <td>525</td>\n",
       "      <td>-750</td>\n",
       "    </tr>\n",
       "    <tr>\n",
       "      <th>2</th>\n",
       "      <td>2</td>\n",
       "      <td>20230924_DAL@ARI</td>\n",
       "      <td>3</td>\n",
       "      <td>2023-09-24 13:26:08.483308800</td>\n",
       "      <td>43.5</td>\n",
       "      <td>-105</td>\n",
       "      <td>-115</td>\n",
       "      <td>12.5</td>\n",
       "      <td>-110</td>\n",
       "      <td>-12.5</td>\n",
       "      <td>-110</td>\n",
       "      <td>520</td>\n",
       "      <td>-720</td>\n",
       "    </tr>\n",
       "    <tr>\n",
       "      <th>3</th>\n",
       "      <td>3</td>\n",
       "      <td>20230924_DAL@ARI</td>\n",
       "      <td>5</td>\n",
       "      <td>2023-09-24 13:26:08.483308800</td>\n",
       "      <td>43.0</td>\n",
       "      <td>-112</td>\n",
       "      <td>-109</td>\n",
       "      <td>13.0</td>\n",
       "      <td>-110</td>\n",
       "      <td>-13.0</td>\n",
       "      <td>-110</td>\n",
       "      <td>500</td>\n",
       "      <td>-770</td>\n",
       "    </tr>\n",
       "    <tr>\n",
       "      <th>4</th>\n",
       "      <td>4</td>\n",
       "      <td>20230924_DAL@ARI</td>\n",
       "      <td>6</td>\n",
       "      <td>2023-09-24 13:26:08.483308800</td>\n",
       "      <td>43.5</td>\n",
       "      <td>-110</td>\n",
       "      <td>-110</td>\n",
       "      <td>12.5</td>\n",
       "      <td>-110</td>\n",
       "      <td>-12.5</td>\n",
       "      <td>-110</td>\n",
       "      <td>550</td>\n",
       "      <td>-800</td>\n",
       "    </tr>\n",
       "  </tbody>\n",
       "</table>\n",
       "</div>"
      ],
      "text/plain": [
       "   Unnamed: 0           game_id  sportsbook_id                   last_update  \\\n",
       "0           0  20230924_DAL@ARI              1 2023-09-24 13:26:08.483308800   \n",
       "1           1  20230924_DAL@ARI              2 2023-09-24 13:26:08.483308800   \n",
       "2           2  20230924_DAL@ARI              3 2023-09-24 13:26:08.483308800   \n",
       "3           3  20230924_DAL@ARI              5 2023-09-24 13:26:08.483308800   \n",
       "4           4  20230924_DAL@ARI              6 2023-09-24 13:26:08.483308800   \n",
       "\n",
       "   total_over_under  over_odds  under_odds  home_spread  home_odds  \\\n",
       "0              43.0       -110        -110         12.5       -105   \n",
       "1              43.0       -110        -110         13.0       -110   \n",
       "2              43.5       -105        -115         12.5       -110   \n",
       "3              43.0       -112        -109         13.0       -110   \n",
       "4              43.5       -110        -110         12.5       -110   \n",
       "\n",
       "   away_spread  away_odds  home_ml_odds  away_ml_odds  \n",
       "0        -12.5       -115           525          -750  \n",
       "1        -13.0       -110           525          -750  \n",
       "2        -12.5       -110           520          -720  \n",
       "3        -13.0       -110           500          -770  \n",
       "4        -12.5       -110           550          -800  "
      ]
     },
     "execution_count": 2,
     "metadata": {},
     "output_type": "execute_result"
    }
   ],
   "source": [
    "#read in fct_betting sample CSV\n",
    "df = pd.read_csv('../data/Exports/fct_betting.csv')\n",
    "\n",
    "df['last_update'] = pd.to_datetime(df['last_update'])\n",
    "\n",
    "df.head()"
   ]
  },
  {
   "cell_type": "code",
   "execution_count": 3,
   "metadata": {},
   "outputs": [
    {
     "data": {
      "text/html": [
       "<div>\n",
       "<style scoped>\n",
       "    .dataframe tbody tr th:only-of-type {\n",
       "        vertical-align: middle;\n",
       "    }\n",
       "\n",
       "    .dataframe tbody tr th {\n",
       "        vertical-align: top;\n",
       "    }\n",
       "\n",
       "    .dataframe thead th {\n",
       "        text-align: right;\n",
       "    }\n",
       "</style>\n",
       "<table border=\"1\" class=\"dataframe\">\n",
       "  <thead>\n",
       "    <tr style=\"text-align: right;\">\n",
       "      <th></th>\n",
       "      <th>game_id</th>\n",
       "      <th>sportsbook_id</th>\n",
       "      <th>last_update</th>\n",
       "      <th>total_over_under</th>\n",
       "      <th>over_odds</th>\n",
       "      <th>under_odds</th>\n",
       "      <th>home_spread</th>\n",
       "      <th>home_odds</th>\n",
       "      <th>away_spread</th>\n",
       "      <th>away_odds</th>\n",
       "      <th>home_ml_odds</th>\n",
       "      <th>away_ml_odds</th>\n",
       "    </tr>\n",
       "  </thead>\n",
       "  <tbody>\n",
       "    <tr>\n",
       "      <th>0</th>\n",
       "      <td>20230924_DAL@ARI</td>\n",
       "      <td>1</td>\n",
       "      <td>2023-09-24 13:26:08.483308800</td>\n",
       "      <td>43.0</td>\n",
       "      <td>-110</td>\n",
       "      <td>-110</td>\n",
       "      <td>12.5</td>\n",
       "      <td>-105</td>\n",
       "      <td>-12.5</td>\n",
       "      <td>-115</td>\n",
       "      <td>525</td>\n",
       "      <td>-750</td>\n",
       "    </tr>\n",
       "    <tr>\n",
       "      <th>1</th>\n",
       "      <td>20230924_DAL@ARI</td>\n",
       "      <td>2</td>\n",
       "      <td>2023-09-24 13:26:08.483308800</td>\n",
       "      <td>43.0</td>\n",
       "      <td>-110</td>\n",
       "      <td>-110</td>\n",
       "      <td>13.0</td>\n",
       "      <td>-110</td>\n",
       "      <td>-13.0</td>\n",
       "      <td>-110</td>\n",
       "      <td>525</td>\n",
       "      <td>-750</td>\n",
       "    </tr>\n",
       "    <tr>\n",
       "      <th>2</th>\n",
       "      <td>20230924_DAL@ARI</td>\n",
       "      <td>3</td>\n",
       "      <td>2023-09-24 13:26:08.483308800</td>\n",
       "      <td>43.5</td>\n",
       "      <td>-105</td>\n",
       "      <td>-115</td>\n",
       "      <td>12.5</td>\n",
       "      <td>-110</td>\n",
       "      <td>-12.5</td>\n",
       "      <td>-110</td>\n",
       "      <td>520</td>\n",
       "      <td>-720</td>\n",
       "    </tr>\n",
       "    <tr>\n",
       "      <th>3</th>\n",
       "      <td>20230924_DAL@ARI</td>\n",
       "      <td>5</td>\n",
       "      <td>2023-09-24 13:26:08.483308800</td>\n",
       "      <td>43.0</td>\n",
       "      <td>-112</td>\n",
       "      <td>-109</td>\n",
       "      <td>13.0</td>\n",
       "      <td>-110</td>\n",
       "      <td>-13.0</td>\n",
       "      <td>-110</td>\n",
       "      <td>500</td>\n",
       "      <td>-770</td>\n",
       "    </tr>\n",
       "    <tr>\n",
       "      <th>4</th>\n",
       "      <td>20230924_DAL@ARI</td>\n",
       "      <td>6</td>\n",
       "      <td>2023-09-24 13:26:08.483308800</td>\n",
       "      <td>43.5</td>\n",
       "      <td>-110</td>\n",
       "      <td>-110</td>\n",
       "      <td>12.5</td>\n",
       "      <td>-110</td>\n",
       "      <td>-12.5</td>\n",
       "      <td>-110</td>\n",
       "      <td>550</td>\n",
       "      <td>-800</td>\n",
       "    </tr>\n",
       "  </tbody>\n",
       "</table>\n",
       "</div>"
      ],
      "text/plain": [
       "            game_id  sportsbook_id                   last_update  \\\n",
       "0  20230924_DAL@ARI              1 2023-09-24 13:26:08.483308800   \n",
       "1  20230924_DAL@ARI              2 2023-09-24 13:26:08.483308800   \n",
       "2  20230924_DAL@ARI              3 2023-09-24 13:26:08.483308800   \n",
       "3  20230924_DAL@ARI              5 2023-09-24 13:26:08.483308800   \n",
       "4  20230924_DAL@ARI              6 2023-09-24 13:26:08.483308800   \n",
       "\n",
       "   total_over_under  over_odds  under_odds  home_spread  home_odds  \\\n",
       "0              43.0       -110        -110         12.5       -105   \n",
       "1              43.0       -110        -110         13.0       -110   \n",
       "2              43.5       -105        -115         12.5       -110   \n",
       "3              43.0       -112        -109         13.0       -110   \n",
       "4              43.5       -110        -110         12.5       -110   \n",
       "\n",
       "   away_spread  away_odds  home_ml_odds  away_ml_odds  \n",
       "0        -12.5       -115           525          -750  \n",
       "1        -13.0       -110           525          -750  \n",
       "2        -12.5       -110           520          -720  \n",
       "3        -13.0       -110           500          -770  \n",
       "4        -12.5       -110           550          -800  "
      ]
     },
     "execution_count": 3,
     "metadata": {},
     "output_type": "execute_result"
    }
   ],
   "source": [
    "#drop unnamed column\n",
    "df = df.drop(columns='Unnamed: 0')\n",
    "\n",
    "df.head()"
   ]
  },
  {
   "cell_type": "markdown",
   "metadata": {},
   "source": [
    "### Create INSERT Statements\n",
    "\n",
    "I think there is a pandas function 'to_sql', but I want to be able to see under the hood a little more. So I want to itterate through the records to create SQL insert statements that can then be run using sqlalchemy or psycopg2."
   ]
  },
  {
   "cell_type": "code",
   "execution_count": 4,
   "metadata": {},
   "outputs": [],
   "source": [
    "#set data table name\n",
    "schema_table = 'nfl.fct_betting'"
   ]
  },
  {
   "cell_type": "code",
   "execution_count": 5,
   "metadata": {},
   "outputs": [],
   "source": [
    "#save column names to a list\n",
    "column_names = df.columns.tolist()"
   ]
  },
  {
   "cell_type": "code",
   "execution_count": 6,
   "metadata": {},
   "outputs": [],
   "source": [
    "#create empty list to store insert statements\n",
    "insert_statements = []\n",
    "\n",
    "for index, row in df.iterrows():\n",
    "    values = (', '.join([f\"'{val}'\" if isinstance(val, (str, datetime.datetime)) else str(val) for val in row]))\n",
    "    insert_statement = f\"INSERT INTO {schema_table} ({', '.join(column_names)}) VALUES ({values});\"\n",
    "    insert_statements.append(insert_statement)"
   ]
  },
  {
   "cell_type": "code",
   "execution_count": 7,
   "metadata": {},
   "outputs": [
    {
     "name": "stdout",
     "output_type": "stream",
     "text": [
      "INSERT INTO nfl.fct_betting (game_id, sportsbook_id, last_update, total_over_under, over_odds, under_odds, home_spread, home_odds, away_spread, away_odds, home_ml_odds, away_ml_odds) VALUES ('20230924_DAL@ARI', 1, '2023-09-24 13:26:08.483308800', 43.0, -110, -110, 12.5, -105, -12.5, -115, 525, -750);\n",
      "INSERT INTO nfl.fct_betting (game_id, sportsbook_id, last_update, total_over_under, over_odds, under_odds, home_spread, home_odds, away_spread, away_odds, home_ml_odds, away_ml_odds) VALUES ('20230924_DAL@ARI', 2, '2023-09-24 13:26:08.483308800', 43.0, -110, -110, 13.0, -110, -13.0, -110, 525, -750);\n",
      "INSERT INTO nfl.fct_betting (game_id, sportsbook_id, last_update, total_over_under, over_odds, under_odds, home_spread, home_odds, away_spread, away_odds, home_ml_odds, away_ml_odds) VALUES ('20230924_DAL@ARI', 3, '2023-09-24 13:26:08.483308800', 43.5, -105, -115, 12.5, -110, -12.5, -110, 520, -720);\n",
      "INSERT INTO nfl.fct_betting (game_id, sportsbook_id, last_update, total_over_under, over_odds, under_odds, home_spread, home_odds, away_spread, away_odds, home_ml_odds, away_ml_odds) VALUES ('20230924_DAL@ARI', 5, '2023-09-24 13:26:08.483308800', 43.0, -112, -109, 13.0, -110, -13.0, -110, 500, -770);\n",
      "INSERT INTO nfl.fct_betting (game_id, sportsbook_id, last_update, total_over_under, over_odds, under_odds, home_spread, home_odds, away_spread, away_odds, home_ml_odds, away_ml_odds) VALUES ('20230924_DAL@ARI', 6, '2023-09-24 13:26:08.483308800', 43.5, -110, -110, 12.5, -110, -12.5, -110, 550, -800);\n",
      "INSERT INTO nfl.fct_betting (game_id, sportsbook_id, last_update, total_over_under, over_odds, under_odds, home_spread, home_odds, away_spread, away_odds, home_ml_odds, away_ml_odds) VALUES ('20230924_DAL@ARI', 7, '2023-09-24 13:26:08.483308800', 43.0, -112, -109, 13.0, -110, -13.0, -110, 530, -715);\n",
      "INSERT INTO nfl.fct_betting (game_id, sportsbook_id, last_update, total_over_under, over_odds, under_odds, home_spread, home_odds, away_spread, away_odds, home_ml_odds, away_ml_odds) VALUES ('20230924_DAL@ARI', 9, '2023-09-24 13:26:08.483308800', 43.0, -112, -108, 13.0, -110, -13.0, -110, 490, -675);\n",
      "INSERT INTO nfl.fct_betting (game_id, sportsbook_id, last_update, total_over_under, over_odds, under_odds, home_spread, home_odds, away_spread, away_odds, home_ml_odds, away_ml_odds) VALUES ('20231001_ARI@SF', 1, '2023-10-01 23:16:11.053015296', 44.0, -110, -110, -14.5, -110, 14.5, -110, -1100, 700);\n",
      "INSERT INTO nfl.fct_betting (game_id, sportsbook_id, last_update, total_over_under, over_odds, under_odds, home_spread, home_odds, away_spread, away_odds, home_ml_odds, away_ml_odds) VALUES ('20231001_ARI@SF', 2, '2023-10-01 23:16:11.053015296', 44.0, -110, -110, -15.0, -110, 15.0, -110, -1100, 700);\n",
      "INSERT INTO nfl.fct_betting (game_id, sportsbook_id, last_update, total_over_under, over_odds, under_odds, home_spread, home_odds, away_spread, away_odds, home_ml_odds, away_ml_odds) VALUES ('20231001_ARI@SF', 3, '2023-10-01 23:16:11.053015296', 43.5, -114, -106, -14.5, -115, 14.5, -105, -1200, 750);\n",
      "INSERT INTO nfl.fct_betting (game_id, sportsbook_id, last_update, total_over_under, over_odds, under_odds, home_spread, home_odds, away_spread, away_odds, home_ml_odds, away_ml_odds) VALUES ('20231001_ARI@SF', 5, '2023-10-01 23:16:11.053015296', 44.0, -106, -115, -14.5, -109, 14.5, -112, -1000, 700);\n",
      "INSERT INTO nfl.fct_betting (game_id, sportsbook_id, last_update, total_over_under, over_odds, under_odds, home_spread, home_odds, away_spread, away_odds, home_ml_odds, away_ml_odds) VALUES ('20231001_ARI@SF', 6, '2023-10-01 23:16:11.053015296', 44.0, -110, -110, -16.0, -110, 16.0, -110, -1099, 700);\n",
      "INSERT INTO nfl.fct_betting (game_id, sportsbook_id, last_update, total_over_under, over_odds, under_odds, home_spread, home_odds, away_spread, away_odds, home_ml_odds, away_ml_odds) VALUES ('20231001_ARI@SF', 7, '2023-10-01 23:16:11.053015296', 44.0, -106, -115, -14.5, -109, 14.5, -112, -1115, 650);\n",
      "INSERT INTO nfl.fct_betting (game_id, sportsbook_id, last_update, total_over_under, over_odds, under_odds, home_spread, home_odds, away_spread, away_odds, home_ml_odds, away_ml_odds) VALUES ('20231001_ARI@SF', 9, '2023-10-01 23:16:11.053015296', 44.0, -115, -105, -15.0, -112, 15.0, -108, -1050, 675);\n"
     ]
    }
   ],
   "source": [
    "for sql in insert_statements:\n",
    "    print(sql)"
   ]
  },
  {
   "cell_type": "markdown",
   "metadata": {},
   "source": [
    "Looks good! Now for the actual load test.\n",
    "\n",
    "### Test Load to PostgreSQL Database"
   ]
  },
  {
   "cell_type": "code",
   "execution_count": 8,
   "metadata": {},
   "outputs": [],
   "source": [
    "#setup connection variables\n",
    "# Load .env to get PostgreSQL user login info\n",
    "load_dotenv()\n",
    "\n",
    "# set postgres access variables\n",
    "db_host = 'localhost'\n",
    "db_user = os.getenv('psql_username')\n",
    "db_password = os.getenv('psql_password')\n",
    "db_name = 'team_flow'\n",
    "\n",
    "#put connection details into params variable\n",
    "db_params = {\n",
    "    'host': '{host}'.format(host=db_host),\n",
    "    'database': '{database}'.format(database=db_name),  \n",
    "    'user': '{user}'.format(user=db_user),\n",
    "    'password': '{password}'.format(password=db_password)\n",
    "}"
   ]
  },
  {
   "cell_type": "code",
   "execution_count": 9,
   "metadata": {},
   "outputs": [
    {
     "name": "stdout",
     "output_type": "stream",
     "text": [
      "Error: insert or update on table \"fct_betting\" violates foreign key constraint \"fk_fct_betting_game\"\n",
      "DETAIL:  Key (game_id)=(20230924_DAL@ARI) is not present in table \"dim_game\".\n",
      "\n"
     ]
    }
   ],
   "source": [
    "#try load\n",
    "try:\n",
    "    #setup connection and cursor\n",
    "    conn = psycopg2.connect(**db_params)\n",
    "    cursor = conn.cursor()\n",
    "\n",
    "    #insert data\n",
    "    for sql in insert_statements:\n",
    "        cursor.execute(sql)\n",
    "\n",
    "    #commit changes\n",
    "    conn.commit()\n",
    "\n",
    "    count = cursor.rowcount\n",
    "    print(count, \"records inserted successfully into {schema.table} table\".format(schema_table=schema_table))\n",
    "\n",
    "except (Exception, psycopg2.Error) as error:\n",
    "    print(f\"Error: {error}\")\n",
    "\n",
    "finally:\n",
    "    # Close the cursor and connection\n",
    "    if cursor:\n",
    "        cursor.close()\n",
    "    if conn:\n",
    "        conn.close()"
   ]
  }
 ],
 "metadata": {
  "kernelspec": {
   "display_name": "nfl",
   "language": "python",
   "name": "python3"
  },
  "language_info": {
   "codemirror_mode": {
    "name": "ipython",
    "version": 3
   },
   "file_extension": ".py",
   "mimetype": "text/x-python",
   "name": "python",
   "nbconvert_exporter": "python",
   "pygments_lexer": "ipython3",
   "version": "3.11.5"
  }
 },
 "nbformat": 4,
 "nbformat_minor": 2
}
