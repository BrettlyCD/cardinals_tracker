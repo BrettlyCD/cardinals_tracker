{
 "cells": [
  {
   "cell_type": "markdown",
   "metadata": {},
   "source": [
    "# Build DIM Tables\n",
    "\n",
    "After doing some work on the key boxscore and scoring data, I want to build out the framework for dimensional tables that could be a part of these datasets:\n",
    "\n",
    "- dim_team\n",
    "- dim_game\n",
    "- dim_date\n",
    "- dim_schedule\n",
    "- dim_score_type\n",
    "- dim_sportsbook\n",
    "\n",
    "Using Rapid API Link: https://rapidapi.com/tank01/api/tank01-nfl-live-in-game-real-time-statistics-nfl\n",
    "\n",
    "The free tier offers 100 calls per day"
   ]
  },
  {
   "cell_type": "markdown",
   "metadata": {},
   "source": [
    "## Imports"
   ]
  },
  {
   "cell_type": "code",
   "execution_count": 1,
   "metadata": {},
   "outputs": [],
   "source": [
    "import pandas as pd\n",
    "import json\n",
    "import os\n",
    "import requests\n",
    "\n",
    "from dotenv import load_dotenv"
   ]
  },
  {
   "cell_type": "markdown",
   "metadata": {},
   "source": [
    "## API Credentials"
   ]
  },
  {
   "cell_type": "code",
   "execution_count": 2,
   "metadata": {},
   "outputs": [],
   "source": [
    "#Get API Key and host\n",
    "load_dotenv()\n",
    "api_token = os.getenv('nfl_api_key')\n",
    "api_host = os.getenv('rapid_api_host')"
   ]
  },
  {
   "cell_type": "code",
   "execution_count": 3,
   "metadata": {},
   "outputs": [],
   "source": [
    "#rapidapi headers\n",
    "headers = {\n",
    "\t\"X-RapidAPI-Key\": \"{key}\".format(key=api_token),\n",
    "\t\"X-RapidAPI-Host\": \"{host}\".format(host=api_host)\n",
    "}"
   ]
  },
  {
   "cell_type": "markdown",
   "metadata": {},
   "source": [
    "## Manual Data Adds\n",
    "\n",
    "These will be for the items that are in the API only by name as far as I would tell. And it would be less efficient to try to loop through all the possible options. So I will define them to the best of my ability.\n",
    "\n",
    "- score types\n",
    "- sportsbooks\n",
    "- game types\n",
    "\n",
    "### Create dictionaries for lookups. "
   ]
  },
  {
   "cell_type": "markdown",
   "metadata": {},
   "source": [
    "#### Score Type Table"
   ]
  },
  {
   "cell_type": "code",
   "execution_count": 4,
   "metadata": {},
   "outputs": [],
   "source": [
    "score_type_dict = {\n",
    "    \"TD\": 1,\n",
    "    \"SF\": 2,\n",
    "    \"FG\": 3\n",
    "}"
   ]
  },
  {
   "cell_type": "code",
   "execution_count": 7,
   "metadata": {},
   "outputs": [
    {
     "data": {
      "text/html": [
       "<div>\n",
       "<style scoped>\n",
       "    .dataframe tbody tr th:only-of-type {\n",
       "        vertical-align: middle;\n",
       "    }\n",
       "\n",
       "    .dataframe tbody tr th {\n",
       "        vertical-align: top;\n",
       "    }\n",
       "\n",
       "    .dataframe thead tr th {\n",
       "        text-align: left;\n",
       "    }\n",
       "</style>\n",
       "<table border=\"1\" class=\"dataframe\">\n",
       "  <thead>\n",
       "    <tr>\n",
       "      <th></th>\n",
       "      <th>score_type</th>\n",
       "      <th>score_type_id</th>\n",
       "    </tr>\n",
       "  </thead>\n",
       "  <tbody>\n",
       "    <tr>\n",
       "      <th>0</th>\n",
       "      <td>TD</td>\n",
       "      <td>1</td>\n",
       "    </tr>\n",
       "    <tr>\n",
       "      <th>1</th>\n",
       "      <td>SF</td>\n",
       "      <td>2</td>\n",
       "    </tr>\n",
       "    <tr>\n",
       "      <th>2</th>\n",
       "      <td>FG</td>\n",
       "      <td>3</td>\n",
       "    </tr>\n",
       "  </tbody>\n",
       "</table>\n",
       "</div>"
      ],
      "text/plain": [
       "  score_type score_type_id\n",
       "0         TD             1\n",
       "1         SF             2\n",
       "2         FG             3"
      ]
     },
     "execution_count": 7,
     "metadata": {},
     "output_type": "execute_result"
    }
   ],
   "source": [
    "pd.DataFrame(score_type_dict.items(), columns=[['score_type', 'score_type_id']])"
   ]
  },
  {
   "cell_type": "markdown",
   "metadata": {},
   "source": [
    "#### Sportsbooks Table"
   ]
  },
  {
   "cell_type": "code",
   "execution_count": 5,
   "metadata": {},
   "outputs": [],
   "source": [
    "sportsbook_dict = {\n",
    "    \"betmgm\": 1,\n",
    "    \"bet365\": 2,\n",
    "    \"fanduel\": 3,\n",
    "    \"wynnbet\": 4,\n",
    "    \"unibet\": 5,\n",
    "    \"pointsbet\": 6,\n",
    "    \"betrivers\": 7,\n",
    "    \"ceasars_sportsbook\": 8,\n",
    "    \"draftkings\": 9,   \n",
    "}"
   ]
  },
  {
   "cell_type": "markdown",
   "metadata": {},
   "source": [
    "#### Game Type Table"
   ]
  },
  {
   "cell_type": "code",
   "execution_count": 6,
   "metadata": {},
   "outputs": [],
   "source": [
    "game_type_dict = {\n",
    "    \"Preseason\": 1,\n",
    "    \"Regular Season\": 2,\n",
    "    \"Postseason\": 3\n",
    "}"
   ]
  },
  {
   "cell_type": "markdown",
   "metadata": {},
   "source": [
    "## Team Data\n",
    "\n",
    "This data will come from the \"Get NFL Teams\" endpoint in the Rapid API.\n",
    "\n",
    "### Extract"
   ]
  },
  {
   "cell_type": "code",
   "execution_count": 4,
   "metadata": {},
   "outputs": [],
   "source": [
    "#API Endpoint for NFL Team Info\n",
    "url = \"https://tank01-nfl-live-in-game-real-time-statistics-nfl.p.rapidapi.com/getNFLTeams\""
   ]
  },
  {
   "cell_type": "code",
   "execution_count": 6,
   "metadata": {},
   "outputs": [],
   "source": [
    "#pull in only main team info, none of the rosters, schedules, stats, etc.\n",
    "querystring = {\"rosters\":\"false\",\"schedules\":\"false\",\"topPerformers\":\"false\",\"teamStats\":\"false\"}"
   ]
  },
  {
   "cell_type": "code",
   "execution_count": 7,
   "metadata": {},
   "outputs": [],
   "source": [
    "#get team data\n",
    "response = requests.get(url, headers=headers, params=querystring)"
   ]
  },
  {
   "cell_type": "code",
   "execution_count": 11,
   "metadata": {},
   "outputs": [],
   "source": [
    "#export data file for reference\n",
    "with open('../data/team_data.json', 'w') as file:\n",
    "    json.dump(response.json(), file)"
   ]
  },
  {
   "cell_type": "markdown",
   "metadata": {},
   "source": [
    "### Transform"
   ]
  },
  {
   "cell_type": "code",
   "execution_count": 13,
   "metadata": {},
   "outputs": [],
   "source": [
    "#drill into body of api response\n",
    "teams = response.json()['body']"
   ]
  },
  {
   "cell_type": "code",
   "execution_count": 14,
   "metadata": {},
   "outputs": [
    {
     "data": {
      "text/plain": [
       "{'teamAbv': 'ARI',\n",
       " 'teamCity': 'Arizona',\n",
       " 'currentStreak': {'result': 'W', 'length': '1'},\n",
       " 'loss': '2',\n",
       " 'teamName': 'Cardinals',\n",
       " 'nflComLogo1': 'https://static.www.nfl.com/image/private/f_auto/league/u9fltoslqdsyao8cpm0k',\n",
       " 'teamID': '1',\n",
       " 'tie': '0',\n",
       " 'pa': '67',\n",
       " 'pf': '72',\n",
       " 'espnLogo1': 'https://a.espncdn.com/combiner/i?img=/i/teamlogos/nfl/500/ari.png',\n",
       " 'wins': '1'}"
      ]
     },
     "execution_count": 14,
     "metadata": {},
     "output_type": "execute_result"
    }
   ],
   "source": [
    "teams[0]"
   ]
  },
  {
   "cell_type": "code",
   "execution_count": 17,
   "metadata": {},
   "outputs": [],
   "source": [
    "#save record for each team in list\n",
    "team_list = []\n",
    "\n",
    "#create dictionary for team data\n",
    "for team in teams:\n",
    "    team_info = {\n",
    "        \"team_id\": team['teamID'],\n",
    "        \"team_name_location\": team['teamCity'],\n",
    "        \"team_name\": team['teamName'],\n",
    "        \"team_abrv\": team['teamAbv'],\n",
    "        \"team_logo_link\": team['nflComLogo1']\n",
    "    }\n",
    "\n",
    "    team_list.append(team_info)"
   ]
  },
  {
   "cell_type": "code",
   "execution_count": 20,
   "metadata": {},
   "outputs": [
    {
     "data": {
      "text/plain": [
       "[{'team_id': '1',\n",
       "  'team_name_location': 'Arizona',\n",
       "  'team_name': 'Cardinals',\n",
       "  'team_abrv': 'ARI',\n",
       "  'team_logo_link': 'https://static.www.nfl.com/image/private/f_auto/league/u9fltoslqdsyao8cpm0k'},\n",
       " {'team_id': '2',\n",
       "  'team_name_location': 'Atlanta',\n",
       "  'team_name': 'Falcons',\n",
       "  'team_abrv': 'ATL',\n",
       "  'team_logo_link': 'https://static.www.nfl.com/image/private/f_auto/league/d8m7hzpsbrl6pnqht8op'}]"
      ]
     },
     "execution_count": 20,
     "metadata": {},
     "output_type": "execute_result"
    }
   ],
   "source": [
    "team_list[:2]"
   ]
  },
  {
   "cell_type": "markdown",
   "metadata": {},
   "source": [
    "## Schedule\n",
    "\n",
    "This will come from the \"Get NFL Team Schedule\" endpoint. I won't include a schedule_id, that could be added later in the database as a bigint datatype.\n",
    "\n",
    "The querystring requires a teamID or Abrv and the season. I'll prioritize 2022 for now.\n",
    "\n",
    "My idea so far is to have a record for each team in each game. The API response has the team abrv in the body of the json. So I can do a conditional to check if the home or away team matches that abrv to then get the team information. This way it will grab the same game for each team's schedule, but only save **their** data. And not both teams.\n",
    "\n",
    "### Extract"
   ]
  },
  {
   "cell_type": "code",
   "execution_count": 7,
   "metadata": {},
   "outputs": [],
   "source": [
    "#API Endpoint for schedule info\n",
    "sched_url = \"https://tank01-nfl-live-in-game-real-time-statistics-nfl.p.rapidapi.com/getNFLTeamSchedule\""
   ]
  },
  {
   "cell_type": "code",
   "execution_count": 40,
   "metadata": {},
   "outputs": [],
   "source": [
    "#pull in tes with cardinals data\n",
    "sched_querystring = {\"teamID\":\"1\",\"season\":\"2022\"}"
   ]
  },
  {
   "cell_type": "code",
   "execution_count": 41,
   "metadata": {},
   "outputs": [],
   "source": [
    "#get team data\n",
    "sched_response = requests.get(sched_url, headers=headers, params=sched_querystring)"
   ]
  },
  {
   "cell_type": "code",
   "execution_count": 42,
   "metadata": {},
   "outputs": [
    {
     "data": {
      "text/plain": [
       "'ARI'"
      ]
     },
     "execution_count": 42,
     "metadata": {},
     "output_type": "execute_result"
    }
   ],
   "source": [
    "sched_response.json()['body']['team']"
   ]
  },
  {
   "cell_type": "code",
   "execution_count": 43,
   "metadata": {},
   "outputs": [
    {
     "data": {
      "text/plain": [
       "{'gameID': '20220812_ARI@CIN',\n",
       " 'seasonType': 'Preseason',\n",
       " 'away': 'ARI',\n",
       " 'teamIDHome': '7',\n",
       " 'gameDate': '20220812',\n",
       " 'gameStatus': 'Completed',\n",
       " 'gameWeek': 'Preseason Week 1',\n",
       " 'teamIDAway': '1',\n",
       " 'home': 'CIN',\n",
       " 'awayResult': 'W',\n",
       " 'homePts': '23',\n",
       " 'gameTime': '7:30p',\n",
       " 'homeResult': 'L',\n",
       " 'awayPts': '36'}"
      ]
     },
     "execution_count": 43,
     "metadata": {},
     "output_type": "execute_result"
    }
   ],
   "source": [
    "sched_response.json()['body']['schedule'][0]"
   ]
  },
  {
   "cell_type": "markdown",
   "metadata": {},
   "source": [
    "### Transform"
   ]
  },
  {
   "cell_type": "markdown",
   "metadata": {},
   "source": [
    "#### Single Team Test"
   ]
  },
  {
   "cell_type": "code",
   "execution_count": 46,
   "metadata": {},
   "outputs": [],
   "source": [
    "#drill to schedule details\n",
    "\n",
    "schedule_body = sched_response.json()['body']"
   ]
  },
  {
   "cell_type": "code",
   "execution_count": 47,
   "metadata": {},
   "outputs": [],
   "source": [
    "#save record for schedule in test\n",
    "schedule_list = []\n",
    "\n",
    "#identify team abrv to check against\n",
    "team = schedule_body['team']\n",
    "\n",
    "#drill into schedule\n",
    "schedule = schedule_body['schedule']\n",
    "\n",
    "#create dictionary for team data\n",
    "for game in schedule:\n",
    "    if game['home'] == team:\n",
    "        schedule_info = {\n",
    "            \"game_id\": game['gameID'],\n",
    "            \"team_id\": game['teamIDHome'],\n",
    "            \"game_type_id\": game_type_dict.get(game['seasonType'], \"\"),\n",
    "            \"season\": 2022, #can I find a way to automate this?\n",
    "            \"game_week\": game['gameWeek'],\n",
    "            \"is_home_team_flag\": 1,\n",
    "            \"is_complete_flag\": 1\n",
    "        }\n",
    "    else:\n",
    "        schedule_info = {\n",
    "            \"game_id\": game['gameID'],\n",
    "            \"team_id\": game['teamIDAway'],\n",
    "            \"game_type_id\": game_type_dict.get(game['seasonType'], \"\"),\n",
    "            \"season\": 2022, #can I find a way to automate this?\n",
    "            \"game_week\": game['gameWeek'],\n",
    "            \"is_home_team_flag\": 0,\n",
    "            \"is_complete_flag\": 1\n",
    "        }\n",
    "    \n",
    "    schedule_list.append(schedule_info)"
   ]
  },
  {
   "cell_type": "code",
   "execution_count": 50,
   "metadata": {},
   "outputs": [
    {
     "data": {
      "text/plain": [
       "[{'game_id': '20220812_ARI@CIN',\n",
       "  'team_id': '1',\n",
       "  'game_type_id': 1,\n",
       "  'season': 2022,\n",
       "  'game_week': 'Preseason Week 1',\n",
       "  'is_home_team_flag': 0,\n",
       "  'is_complete_flag': 1},\n",
       " {'game_id': '20220821_BAL@ARI',\n",
       "  'team_id': '1',\n",
       "  'game_type_id': 1,\n",
       "  'season': 2022,\n",
       "  'game_week': 'Preseason Week 2',\n",
       "  'is_home_team_flag': 1,\n",
       "  'is_complete_flag': 1}]"
      ]
     },
     "execution_count": 50,
     "metadata": {},
     "output_type": "execute_result"
    }
   ],
   "source": [
    "schedule_list[:2]"
   ]
  },
  {
   "cell_type": "markdown",
   "metadata": {},
   "source": [
    "#### Multiple Teams\n",
    "\n",
    "Pull all team IDs from team table and prep to loop through each to save full schedule data.\n",
    "\n",
    "I'll run with a subset to save API calls."
   ]
  },
  {
   "cell_type": "code",
   "execution_count": 8,
   "metadata": {},
   "outputs": [],
   "source": [
    "#set variables\n",
    "sample_team_ids = ['1','18']\n",
    "season = 2022"
   ]
  },
  {
   "cell_type": "code",
   "execution_count": 44,
   "metadata": {},
   "outputs": [],
   "source": [
    "#setup list to save schedules to\n",
    "test_schedule_list = []\n",
    "test_list = []\n",
    "\n",
    "#run with sample\n",
    "for team in sample_team_ids:\n",
    "    #set query string\n",
    "    test_querystring = {\"teamID\":\"{team_id}\".format(team_id=team),\"season\":\"{season}\".format(season=season)}\n",
    "    #call API\n",
    "    test_response = requests.get(sched_url, headers=headers, params=test_querystring)\n",
    "    #drill to schedule details\n",
    "    test_schedule_body = test_response.json()['body']\n",
    "\n",
    "    ###transform steps###\n",
    "    #identify team abrv to check against\n",
    "    team = test_schedule_body['team']\n",
    "\n",
    "    #drill into schedule\n",
    "    schedule = test_schedule_body['schedule']\n",
    "\n",
    "    #test saving off new variables to splitup extract and transform steps\n",
    "    test_list.append([team, season, schedule])\n",
    "\n",
    "    # #create dictionary for team data\n",
    "    # for game in schedule:\n",
    "    #     if game['home'] == team:\n",
    "    #         schedule_info = {\n",
    "    #             \"game_id\": game['gameID'],\n",
    "    #             \"team_id\": game['teamIDHome'],\n",
    "    #             \"game_type_id\": game_type_dict.get(game['seasonType'], \"\"),\n",
    "    #             \"season\": season, #can I find a way to automate this?\n",
    "    #             \"game_week\": game['gameWeek'],\n",
    "    #             \"is_home_team_flag\": 1,\n",
    "    #             \"is_complete_flag\": 1\n",
    "    #         }\n",
    "    #     else:\n",
    "    #         schedule_info = {\n",
    "    #             \"game_id\": game['gameID'],\n",
    "    #             \"team_id\": game['teamIDAway'],\n",
    "    #             \"game_type_id\": game_type_dict.get(game['seasonType'], \"\"),\n",
    "    #             \"season\": season, #can I find a way to automate this?\n",
    "    #             \"game_week\": game['gameWeek'],\n",
    "    #             \"is_home_team_flag\": 0,\n",
    "    #             \"is_complete_flag\": 1\n",
    "    #         }\n",
    "        \n",
    "    #     test_schedule_list.append(schedule_info)    "
   ]
  },
  {
   "cell_type": "markdown",
   "metadata": {},
   "source": [
    "#### Update - Test exporting just the raw data \n",
    "\n",
    "Export into a list with sublist: [Team, Schedule Data]\n",
    "\n",
    "Then transform from this list"
   ]
  },
  {
   "cell_type": "code",
   "execution_count": 45,
   "metadata": {},
   "outputs": [],
   "source": [
    "#create empty list for this\n",
    "new_list = []\n",
    "\n",
    "for i in test_list:\n",
    "    #set team and season value\n",
    "    team = i[0]\n",
    "    season = i[1]\n",
    "    #now loop through games\n",
    "    for game in i[2]:\n",
    "        #create dictionary for team data\n",
    "        if game['home'] == team:\n",
    "            schedule_info = {\n",
    "                \"game_id\": game['gameID'],\n",
    "                \"team_id\": game['teamIDHome'],\n",
    "                \"game_type_id\": game_type_dict.get(game['seasonType'], \"\"),\n",
    "                \"season\": season, #can I find a way to automate this?\n",
    "                \"game_week\": game['gameWeek'],\n",
    "                \"is_home_team_flag\": 1,\n",
    "                \"is_complete_flag\": 1\n",
    "            }\n",
    "        else:\n",
    "            schedule_info = {\n",
    "                \"game_id\": game['gameID'],\n",
    "                \"team_id\": game['teamIDAway'],\n",
    "                \"game_type_id\": game_type_dict.get(game['seasonType'], \"\"),\n",
    "                \"season\": season, #can I find a way to automate this?\n",
    "                \"game_week\": game['gameWeek'],\n",
    "                \"is_home_team_flag\": 0,\n",
    "                \"is_complete_flag\": 1\n",
    "            }\n",
    "        \n",
    "        new_list.append(schedule_info)  \n"
   ]
  },
  {
   "cell_type": "code",
   "execution_count": 46,
   "metadata": {},
   "outputs": [
    {
     "data": {
      "text/plain": [
       "[{'game_id': '20220812_ARI@CIN',\n",
       "  'team_id': '1',\n",
       "  'game_type_id': 1,\n",
       "  'season': 2022,\n",
       "  'game_week': 'Preseason Week 1',\n",
       "  'is_home_team_flag': 0,\n",
       "  'is_complete_flag': 1},\n",
       " {'game_id': '20220821_BAL@ARI',\n",
       "  'team_id': '1',\n",
       "  'game_type_id': 1,\n",
       "  'season': 2022,\n",
       "  'game_week': 'Preseason Week 2',\n",
       "  'is_home_team_flag': 1,\n",
       "  'is_complete_flag': 1},\n",
       " {'game_id': '20220827_ARI@TEN',\n",
       "  'team_id': '1',\n",
       "  'game_type_id': 1,\n",
       "  'season': 2022,\n",
       "  'game_week': 'Preseason Week 3',\n",
       "  'is_home_team_flag': 0,\n",
       "  'is_complete_flag': 1},\n",
       " {'game_id': '20220911_KC@ARI',\n",
       "  'team_id': '1',\n",
       "  'game_type_id': 2,\n",
       "  'season': 2022,\n",
       "  'game_week': 'Week 1',\n",
       "  'is_home_team_flag': 1,\n",
       "  'is_complete_flag': 1},\n",
       " {'game_id': '20220918_ARI@LV',\n",
       "  'team_id': '1',\n",
       "  'game_type_id': 2,\n",
       "  'season': 2022,\n",
       "  'game_week': 'Week 2',\n",
       "  'is_home_team_flag': 0,\n",
       "  'is_complete_flag': 1},\n",
       " {'game_id': '20220925_LAR@ARI',\n",
       "  'team_id': '1',\n",
       "  'game_type_id': 2,\n",
       "  'season': 2022,\n",
       "  'game_week': 'Week 3',\n",
       "  'is_home_team_flag': 1,\n",
       "  'is_complete_flag': 1},\n",
       " {'game_id': '20221002_ARI@CAR',\n",
       "  'team_id': '1',\n",
       "  'game_type_id': 2,\n",
       "  'season': 2022,\n",
       "  'game_week': 'Week 4',\n",
       "  'is_home_team_flag': 0,\n",
       "  'is_complete_flag': 1},\n",
       " {'game_id': '20221009_PHI@ARI',\n",
       "  'team_id': '1',\n",
       "  'game_type_id': 2,\n",
       "  'season': 2022,\n",
       "  'game_week': 'Week 5',\n",
       "  'is_home_team_flag': 1,\n",
       "  'is_complete_flag': 1},\n",
       " {'game_id': '20221016_ARI@SEA',\n",
       "  'team_id': '1',\n",
       "  'game_type_id': 2,\n",
       "  'season': 2022,\n",
       "  'game_week': 'Week 6',\n",
       "  'is_home_team_flag': 0,\n",
       "  'is_complete_flag': 1},\n",
       " {'game_id': '20221020_NO@ARI',\n",
       "  'team_id': '1',\n",
       "  'game_type_id': 2,\n",
       "  'season': 2022,\n",
       "  'game_week': 'Week 7',\n",
       "  'is_home_team_flag': 1,\n",
       "  'is_complete_flag': 1},\n",
       " {'game_id': '20221030_ARI@MIN',\n",
       "  'team_id': '1',\n",
       "  'game_type_id': 2,\n",
       "  'season': 2022,\n",
       "  'game_week': 'Week 8',\n",
       "  'is_home_team_flag': 0,\n",
       "  'is_complete_flag': 1},\n",
       " {'game_id': '20221106_SEA@ARI',\n",
       "  'team_id': '1',\n",
       "  'game_type_id': 2,\n",
       "  'season': 2022,\n",
       "  'game_week': 'Week 9',\n",
       "  'is_home_team_flag': 1,\n",
       "  'is_complete_flag': 1},\n",
       " {'game_id': '20221113_ARI@LAR',\n",
       "  'team_id': '1',\n",
       "  'game_type_id': 2,\n",
       "  'season': 2022,\n",
       "  'game_week': 'Week 10',\n",
       "  'is_home_team_flag': 0,\n",
       "  'is_complete_flag': 1},\n",
       " {'game_id': '20221121_ARI@SF',\n",
       "  'team_id': '1',\n",
       "  'game_type_id': 2,\n",
       "  'season': 2022,\n",
       "  'game_week': 'Week 11',\n",
       "  'is_home_team_flag': 0,\n",
       "  'is_complete_flag': 1},\n",
       " {'game_id': '20221121_SF@ARI',\n",
       "  'team_id': '1',\n",
       "  'game_type_id': 2,\n",
       "  'season': 2022,\n",
       "  'game_week': 'Week 11',\n",
       "  'is_home_team_flag': 1,\n",
       "  'is_complete_flag': 1},\n",
       " {'game_id': '20221127_LAC@ARI',\n",
       "  'team_id': '1',\n",
       "  'game_type_id': 2,\n",
       "  'season': 2022,\n",
       "  'game_week': 'Week 12',\n",
       "  'is_home_team_flag': 1,\n",
       "  'is_complete_flag': 1},\n",
       " {'game_id': '20221212_NE@ARI',\n",
       "  'team_id': '1',\n",
       "  'game_type_id': 2,\n",
       "  'season': 2022,\n",
       "  'game_week': 'Week 14',\n",
       "  'is_home_team_flag': 1,\n",
       "  'is_complete_flag': 1},\n",
       " {'game_id': '20221218_ARI@DEN',\n",
       "  'team_id': '1',\n",
       "  'game_type_id': 2,\n",
       "  'season': 2022,\n",
       "  'game_week': 'Week 15',\n",
       "  'is_home_team_flag': 0,\n",
       "  'is_complete_flag': 1},\n",
       " {'game_id': '20221225_TB@ARI',\n",
       "  'team_id': '1',\n",
       "  'game_type_id': 2,\n",
       "  'season': 2022,\n",
       "  'game_week': 'Week 16',\n",
       "  'is_home_team_flag': 1,\n",
       "  'is_complete_flag': 1},\n",
       " {'game_id': '20230101_ARI@ATL',\n",
       "  'team_id': '1',\n",
       "  'game_type_id': 2,\n",
       "  'season': 2022,\n",
       "  'game_week': 'Week 17',\n",
       "  'is_home_team_flag': 0,\n",
       "  'is_complete_flag': 1},\n",
       " {'game_id': '20230108_ARI@SF',\n",
       "  'team_id': '1',\n",
       "  'game_type_id': 2,\n",
       "  'season': 2022,\n",
       "  'game_week': 'Week 18',\n",
       "  'is_home_team_flag': 0,\n",
       "  'is_complete_flag': 1},\n",
       " {'game_id': '20220813_LAR@LAC',\n",
       "  'team_id': '18',\n",
       "  'game_type_id': 1,\n",
       "  'season': 2022,\n",
       "  'game_week': 'Preseason Week 1',\n",
       "  'is_home_team_flag': 1,\n",
       "  'is_complete_flag': 1},\n",
       " {'game_id': '20220820_DAL@LAC',\n",
       "  'team_id': '18',\n",
       "  'game_type_id': 1,\n",
       "  'season': 2022,\n",
       "  'game_week': 'Preseason Week 2',\n",
       "  'is_home_team_flag': 1,\n",
       "  'is_complete_flag': 1},\n",
       " {'game_id': '20220826_LAC@NO',\n",
       "  'team_id': '18',\n",
       "  'game_type_id': 1,\n",
       "  'season': 2022,\n",
       "  'game_week': 'Preseason Week 3',\n",
       "  'is_home_team_flag': 0,\n",
       "  'is_complete_flag': 1},\n",
       " {'game_id': '20220911_LV@LAC',\n",
       "  'team_id': '18',\n",
       "  'game_type_id': 2,\n",
       "  'season': 2022,\n",
       "  'game_week': 'Week 1',\n",
       "  'is_home_team_flag': 1,\n",
       "  'is_complete_flag': 1},\n",
       " {'game_id': '20220915_LAC@KC',\n",
       "  'team_id': '18',\n",
       "  'game_type_id': 2,\n",
       "  'season': 2022,\n",
       "  'game_week': 'Week 2',\n",
       "  'is_home_team_flag': 0,\n",
       "  'is_complete_flag': 1},\n",
       " {'game_id': '20220925_JAX@LAC',\n",
       "  'team_id': '18',\n",
       "  'game_type_id': 2,\n",
       "  'season': 2022,\n",
       "  'game_week': 'Week 3',\n",
       "  'is_home_team_flag': 1,\n",
       "  'is_complete_flag': 1},\n",
       " {'game_id': '20221002_LAC@HOU',\n",
       "  'team_id': '18',\n",
       "  'game_type_id': 2,\n",
       "  'season': 2022,\n",
       "  'game_week': 'Week 4',\n",
       "  'is_home_team_flag': 0,\n",
       "  'is_complete_flag': 1},\n",
       " {'game_id': '20221009_LAC@CLE',\n",
       "  'team_id': '18',\n",
       "  'game_type_id': 2,\n",
       "  'season': 2022,\n",
       "  'game_week': 'Week 5',\n",
       "  'is_home_team_flag': 0,\n",
       "  'is_complete_flag': 1},\n",
       " {'game_id': '20221017_DEN@LAC',\n",
       "  'team_id': '18',\n",
       "  'game_type_id': 2,\n",
       "  'season': 2022,\n",
       "  'game_week': 'Week 6',\n",
       "  'is_home_team_flag': 1,\n",
       "  'is_complete_flag': 1},\n",
       " {'game_id': '20221023_SEA@LAC',\n",
       "  'team_id': '18',\n",
       "  'game_type_id': 2,\n",
       "  'season': 2022,\n",
       "  'game_week': 'Week 7',\n",
       "  'is_home_team_flag': 1,\n",
       "  'is_complete_flag': 1},\n",
       " {'game_id': '20221106_LAC@ATL',\n",
       "  'team_id': '18',\n",
       "  'game_type_id': 2,\n",
       "  'season': 2022,\n",
       "  'game_week': 'Week 9',\n",
       "  'is_home_team_flag': 0,\n",
       "  'is_complete_flag': 1},\n",
       " {'game_id': '20221113_LAC@SF',\n",
       "  'team_id': '18',\n",
       "  'game_type_id': 2,\n",
       "  'season': 2022,\n",
       "  'game_week': 'Week 10',\n",
       "  'is_home_team_flag': 0,\n",
       "  'is_complete_flag': 1},\n",
       " {'game_id': '20221120_KC@LAC',\n",
       "  'team_id': '18',\n",
       "  'game_type_id': 2,\n",
       "  'season': 2022,\n",
       "  'game_week': 'Week 11',\n",
       "  'is_home_team_flag': 1,\n",
       "  'is_complete_flag': 1},\n",
       " {'game_id': '20221127_LAC@ARI',\n",
       "  'team_id': '18',\n",
       "  'game_type_id': 2,\n",
       "  'season': 2022,\n",
       "  'game_week': 'Week 12',\n",
       "  'is_home_team_flag': 0,\n",
       "  'is_complete_flag': 1},\n",
       " {'game_id': '20221204_LAC@LV',\n",
       "  'team_id': '18',\n",
       "  'game_type_id': 2,\n",
       "  'season': 2022,\n",
       "  'game_week': 'Week 13',\n",
       "  'is_home_team_flag': 0,\n",
       "  'is_complete_flag': 1},\n",
       " {'game_id': '20221211_MIA@LAC',\n",
       "  'team_id': '18',\n",
       "  'game_type_id': 2,\n",
       "  'season': 2022,\n",
       "  'game_week': 'Week 14',\n",
       "  'is_home_team_flag': 1,\n",
       "  'is_complete_flag': 1},\n",
       " {'game_id': '20221218_TEN@LAC',\n",
       "  'team_id': '18',\n",
       "  'game_type_id': 2,\n",
       "  'season': 2022,\n",
       "  'game_week': 'Week 15',\n",
       "  'is_home_team_flag': 1,\n",
       "  'is_complete_flag': 1},\n",
       " {'game_id': '20221226_LAC@IND',\n",
       "  'team_id': '18',\n",
       "  'game_type_id': 2,\n",
       "  'season': 2022,\n",
       "  'game_week': 'Week 16',\n",
       "  'is_home_team_flag': 0,\n",
       "  'is_complete_flag': 1},\n",
       " {'game_id': '20230101_LAR@LAC',\n",
       "  'team_id': '18',\n",
       "  'game_type_id': 2,\n",
       "  'season': 2022,\n",
       "  'game_week': 'Week 17',\n",
       "  'is_home_team_flag': 1,\n",
       "  'is_complete_flag': 1},\n",
       " {'game_id': '20230108_LAC@DEN',\n",
       "  'team_id': '18',\n",
       "  'game_type_id': 2,\n",
       "  'season': 2022,\n",
       "  'game_week': 'Week 18',\n",
       "  'is_home_team_flag': 0,\n",
       "  'is_complete_flag': 1},\n",
       " {'game_id': '20230114_LAC@JAX',\n",
       "  'team_id': '18',\n",
       "  'game_type_id': 3,\n",
       "  'season': 2022,\n",
       "  'game_week': 'Wild Card',\n",
       "  'is_home_team_flag': 0,\n",
       "  'is_complete_flag': 1}]"
      ]
     },
     "execution_count": 46,
     "metadata": {},
     "output_type": "execute_result"
    }
   ],
   "source": [
    "new_list"
   ]
  },
  {
   "cell_type": "markdown",
   "metadata": {},
   "source": [
    "## Game Data\n",
    "\n",
    "This data will come from the \"Get General Game Information\" endpoint.\n",
    "\n",
    "game_id will be our primary key, it will also be the parameter in the endpoint. So I will need to pull all the unique game IDs from the schedule to pull down the game data. This grows pretty big for a whole season, more than my daily API limit. So I will need to do this in steps. Here, I'll just test a sample of a few.\n",
    "\n",
    "Will need to get the game location and arena from the box score data. I already have to call that API to build another table. So I can try to adapt that code to save off a persistant object I can refer to later.\n",
    "\n",
    "### Extract"
   ]
  },
  {
   "cell_type": "code",
   "execution_count": 6,
   "metadata": {},
   "outputs": [],
   "source": [
    "#setup variabes\n",
    "game_url = \"https://tank01-nfl-live-in-game-real-time-statistics-nfl.p.rapidapi.com/getNFLGameInfo\"\n",
    "\n",
    "game_id_sample = ['20230114_LAC@JAX']#, '20221009_PHI@ARI', '20221020_NO@ARI', '20221121_SF@ARI']"
   ]
  },
  {
   "cell_type": "code",
   "execution_count": 7,
   "metadata": {},
   "outputs": [],
   "source": [
    "#pull single sample\n",
    "game_test_querystring = {\"gameID\":\"20221020_NO@ARI\"}\n",
    "game_test_response = requests.get(game_url, headers=headers, params=game_test_querystring)"
   ]
  },
  {
   "cell_type": "code",
   "execution_count": 9,
   "metadata": {},
   "outputs": [
    {
     "data": {
      "text/plain": [
       "{'espnID': '401437791',\n",
       " 'gameStatus': 'Final',\n",
       " 'season': '2022',\n",
       " 'gameDate': '20221020',\n",
       " 'neutralSite': 'False',\n",
       " 'teamIDHome': '1',\n",
       " 'cbsLink': 'https://www.cbssports.com/nfl/gametracker/boxscore/NFL_20221020_NO@ARI',\n",
       " 'gameTime': '8:15p',\n",
       " 'teamIDAway': '23',\n",
       " 'away': 'NO',\n",
       " 'gameWeek': 'Week 7',\n",
       " 'gameID': '20221020_NO@ARI',\n",
       " 'seasonType': 'Regular Season',\n",
       " 'espnLink': 'https://www.espn.com/nfl/boxscore/_/gameId/401437791',\n",
       " 'home': 'ARI'}"
      ]
     },
     "execution_count": 9,
     "metadata": {},
     "output_type": "execute_result"
    }
   ],
   "source": [
    "#view formatting\n",
    "game_test_response.json()['body']"
   ]
  },
  {
   "cell_type": "code",
   "execution_count": 10,
   "metadata": {},
   "outputs": [],
   "source": [
    "#recreate game_type_mapping\n",
    "game_type_dict = {\n",
    "    \"Preseason\": 1,\n",
    "    \"Regular Season\": 2,\n",
    "    \"Postseason\": 3\n",
    "}"
   ]
  },
  {
   "cell_type": "markdown",
   "metadata": {},
   "source": [
    "#### Test Game Location Read\n",
    "Since the game location isn't available in this endpoint, our plan is to save that off in a json and read it in when we update the game data. I'll test that here."
   ]
  },
  {
   "cell_type": "code",
   "execution_count": 39,
   "metadata": {},
   "outputs": [],
   "source": [
    "lookup_game_id = 'errortest' #'20230108_ARI@SF'"
   ]
  },
  {
   "cell_type": "code",
   "execution_count": 42,
   "metadata": {},
   "outputs": [],
   "source": [
    "with open('../data/persist_variables.json', 'r') as f:\n",
    "    data = json.load(f)\n",
    "\n",
    "for i in data['location_data']:\n",
    "    if i['game_id'] == lookup_game_id:\n",
    "        loc = i['game_location']\n",
    "        arena = i['game_arena']\n",
    "        break\n",
    "    else:\n",
    "        loc = ''\n",
    "        arena = ''"
   ]
  },
  {
   "cell_type": "code",
   "execution_count": 43,
   "metadata": {},
   "outputs": [
    {
     "name": "stdout",
     "output_type": "stream",
     "text": [
      "\n",
      "\n"
     ]
    }
   ],
   "source": [
    "print(loc)\n",
    "print(arena)"
   ]
  },
  {
   "cell_type": "code",
   "execution_count": 11,
   "metadata": {},
   "outputs": [],
   "source": [
    "#setup dictionary\n",
    "#save record for schedule in test\n",
    "game_list = []\n",
    "\n",
    "#test on our sample\n",
    "for gameID in game_id_sample:\n",
    "    game_querystring = {\"gameID\":\"{game_id}\".format(game_id=gameID)}\n",
    "    game_response = requests.get(game_url, headers=headers, params=game_querystring)\n",
    "\n",
    "    #drill into game\n",
    "    game = game_response.json()['body']\n",
    "\n",
    "    #flag if the game is on a neutral site\n",
    "    if game['neutralSite'] == 'True':\n",
    "        neutral_site_flag = 1\n",
    "    else:\n",
    "        neutral_site_flag = 0\n",
    "\n",
    "    #map game type - from our game_type_dict\n",
    "    game_type_id = game_type_dict.get(game['seasonType'], game['seasonType'])\n",
    "\n",
    "    #create dictionary for team data\n",
    "    game_info = {\n",
    "        \"game_id\": game['gameID'],\n",
    "        \"game_date_id\": game['gameDate'],\n",
    "        \"game_type_id\": game_type_id,\n",
    "        \"home_team_id\": game['teamIDHome'],\n",
    "        \"away_team_id\": game['teamIDAway'],\n",
    "        \"game_start_time\": game['gameTime'],\n",
    "        \"game_location\": '',\n",
    "        \"game_arena\": '',\n",
    "        \"is_neautral_site_flag\": neutral_site_flag,\n",
    "        \"espn_link\": game['espnLink'],\n",
    "        \"cbs_link\": game['cbsLink']\n",
    "    }\n",
    "        \n",
    "    game_list.append(game_info)"
   ]
  },
  {
   "cell_type": "code",
   "execution_count": 12,
   "metadata": {},
   "outputs": [
    {
     "data": {
      "text/plain": [
       "[{'game_id': '20230114_LAC@JAX',\n",
       "  'game_date_id': '20230114',\n",
       "  'game_type_id': 3,\n",
       "  'home_team_id': '15',\n",
       "  'away_team_id': '18',\n",
       "  'game_start_time': '8:15p',\n",
       "  'game_location': '',\n",
       "  'game_arena': '',\n",
       "  'is_neautral_site_flag': 0,\n",
       "  'espn_link': 'https://www.espn.com/nfl/boxscore/_/gameId/401437998',\n",
       "  'cbs_link': 'https://www.cbssports.com/nfl/gametracker/boxscore/NFL_20230114_LAC@JAC'}]"
      ]
     },
     "execution_count": 12,
     "metadata": {},
     "output_type": "execute_result"
    }
   ],
   "source": [
    "game_list[:2]"
   ]
  }
 ],
 "metadata": {
  "kernelspec": {
   "display_name": "nfl",
   "language": "python",
   "name": "python3"
  },
  "language_info": {
   "codemirror_mode": {
    "name": "ipython",
    "version": 3
   },
   "file_extension": ".py",
   "mimetype": "text/x-python",
   "name": "python",
   "nbconvert_exporter": "python",
   "pygments_lexer": "ipython3",
   "version": "3.11.5"
  },
  "orig_nbformat": 4
 },
 "nbformat": 4,
 "nbformat_minor": 2
}
