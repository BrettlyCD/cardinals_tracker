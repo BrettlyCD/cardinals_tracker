{
 "cells": [
  {
   "cell_type": "markdown",
   "metadata": {},
   "source": [
    "# Build DIM Tables\n",
    "\n",
    "After doing some work on the key boxscore and scoring data, I want to build out the framework for dimensional tables that could be a part of these datasets:\n",
    "\n",
    "- dim_team\n",
    "- dim_game\n",
    "- dim_date\n",
    "- dim_schedule\n",
    "- dim_score_type\n",
    "- dim_sportsbook\n",
    "\n",
    "Using Rapid API Link: https://rapidapi.com/tank01/api/tank01-nfl-live-in-game-real-time-statistics-nfl\n",
    "\n",
    "The free tier offers 100 calls per day"
   ]
  },
  {
   "cell_type": "markdown",
   "metadata": {},
   "source": [
    "## Imports"
   ]
  },
  {
   "cell_type": "code",
   "execution_count": 2,
   "metadata": {},
   "outputs": [],
   "source": [
    "import pandas as pd\n",
    "import json\n",
    "import os\n",
    "import requests\n",
    "\n",
    "from dotenv import load_dotenv"
   ]
  },
  {
   "cell_type": "markdown",
   "metadata": {},
   "source": [
    "## Get API Credentials"
   ]
  },
  {
   "cell_type": "code",
   "execution_count": 3,
   "metadata": {},
   "outputs": [],
   "source": [
    "#Get API Key and host\n",
    "load_dotenv()\n",
    "api_token = os.getenv('nfl_api_key')\n",
    "api_host = os.getenv('rapid_api_host')"
   ]
  },
  {
   "cell_type": "markdown",
   "metadata": {},
   "source": [
    "## Team Data\n",
    "\n",
    "This data will come from the \"Get NFL Teams\" endpoint in the Rapid API.\n",
    "\n",
    "### Extract"
   ]
  },
  {
   "cell_type": "code",
   "execution_count": 4,
   "metadata": {},
   "outputs": [],
   "source": [
    "#API Endpoint for NFL Team Info\n",
    "url = \"https://tank01-nfl-live-in-game-real-time-statistics-nfl.p.rapidapi.com/getNFLTeams\""
   ]
  },
  {
   "cell_type": "code",
   "execution_count": 5,
   "metadata": {},
   "outputs": [],
   "source": [
    "#rapidapi headers\n",
    "headers = {\n",
    "\t\"X-RapidAPI-Key\": \"{key}\".format(key=api_token),\n",
    "\t\"X-RapidAPI-Host\": \"{host}\".format(host=api_host)\n",
    "}"
   ]
  },
  {
   "cell_type": "code",
   "execution_count": 6,
   "metadata": {},
   "outputs": [],
   "source": [
    "#pull in only main team info, none of the rosters, schedules, stats, etc.\n",
    "querystring = {\"rosters\":\"false\",\"schedules\":\"false\",\"topPerformers\":\"false\",\"teamStats\":\"false\"}"
   ]
  },
  {
   "cell_type": "code",
   "execution_count": 7,
   "metadata": {},
   "outputs": [],
   "source": [
    "#get team data\n",
    "response = requests.get(url, headers=headers, params=querystring)"
   ]
  },
  {
   "cell_type": "code",
   "execution_count": 11,
   "metadata": {},
   "outputs": [],
   "source": [
    "#export data file for reference\n",
    "with open('../data/team_data.json', 'w') as file:\n",
    "    json.dump(response.json(), file)"
   ]
  },
  {
   "cell_type": "markdown",
   "metadata": {},
   "source": [
    "### Transform"
   ]
  },
  {
   "cell_type": "code",
   "execution_count": 13,
   "metadata": {},
   "outputs": [],
   "source": [
    "#drill into body of api response\n",
    "teams = response.json()['body']"
   ]
  },
  {
   "cell_type": "code",
   "execution_count": 14,
   "metadata": {},
   "outputs": [
    {
     "data": {
      "text/plain": [
       "{'teamAbv': 'ARI',\n",
       " 'teamCity': 'Arizona',\n",
       " 'currentStreak': {'result': 'W', 'length': '1'},\n",
       " 'loss': '2',\n",
       " 'teamName': 'Cardinals',\n",
       " 'nflComLogo1': 'https://static.www.nfl.com/image/private/f_auto/league/u9fltoslqdsyao8cpm0k',\n",
       " 'teamID': '1',\n",
       " 'tie': '0',\n",
       " 'pa': '67',\n",
       " 'pf': '72',\n",
       " 'espnLogo1': 'https://a.espncdn.com/combiner/i?img=/i/teamlogos/nfl/500/ari.png',\n",
       " 'wins': '1'}"
      ]
     },
     "execution_count": 14,
     "metadata": {},
     "output_type": "execute_result"
    }
   ],
   "source": [
    "teams[0]"
   ]
  },
  {
   "cell_type": "code",
   "execution_count": 17,
   "metadata": {},
   "outputs": [],
   "source": [
    "#save record for each team in list\n",
    "team_list = []\n",
    "\n",
    "#create dictionary for team data\n",
    "for team in teams:\n",
    "    team_info = {\n",
    "        \"team_id\": team['teamID'],\n",
    "        \"team_name_location\": team['teamCity'],\n",
    "        \"team_name\": team['teamName'],\n",
    "        \"team_abrv\": team['teamAbv'],\n",
    "        \"team_logo_link\": team['nflComLogo1']\n",
    "    }\n",
    "\n",
    "    team_list.append(team_info)"
   ]
  },
  {
   "cell_type": "code",
   "execution_count": 20,
   "metadata": {},
   "outputs": [
    {
     "data": {
      "text/plain": [
       "[{'team_id': '1',\n",
       "  'team_name_location': 'Arizona',\n",
       "  'team_name': 'Cardinals',\n",
       "  'team_abrv': 'ARI',\n",
       "  'team_logo_link': 'https://static.www.nfl.com/image/private/f_auto/league/u9fltoslqdsyao8cpm0k'},\n",
       " {'team_id': '2',\n",
       "  'team_name_location': 'Atlanta',\n",
       "  'team_name': 'Falcons',\n",
       "  'team_abrv': 'ATL',\n",
       "  'team_logo_link': 'https://static.www.nfl.com/image/private/f_auto/league/d8m7hzpsbrl6pnqht8op'}]"
      ]
     },
     "execution_count": 20,
     "metadata": {},
     "output_type": "execute_result"
    }
   ],
   "source": [
    "team_list[:2]"
   ]
  }
 ],
 "metadata": {
  "kernelspec": {
   "display_name": "nfl",
   "language": "python",
   "name": "python3"
  },
  "language_info": {
   "codemirror_mode": {
    "name": "ipython",
    "version": 3
   },
   "file_extension": ".py",
   "mimetype": "text/x-python",
   "name": "python",
   "nbconvert_exporter": "python",
   "pygments_lexer": "ipython3",
   "version": "3.11.5"
  },
  "orig_nbformat": 4
 },
 "nbformat": 4,
 "nbformat_minor": 2
}
